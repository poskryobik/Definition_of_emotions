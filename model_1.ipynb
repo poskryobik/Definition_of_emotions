{
  "cells": [
    {
      "cell_type": "markdown",
      "metadata": {
        "id": "SYb2ea8fbziW"
      },
      "source": [
        "Поля в датасетах\n",
        "\n",
        "\n",
        "*  image_path - строка, являющаюся путем до изображения в случае обучения или названием изображения в случае теста \n",
        "*   emotion - строка, характеризующая эмоцию\n",
        "\n",
        "В данном задании требуется предсказать 9 базовых эмоций, таких как:\n",
        "\n",
        "\n",
        "*   neutral - нейтральная эмоция\n",
        "*   anger - гнев, злость\n",
        "*   contempt - презрение\n",
        "*   disgust - отвращение\n",
        "*   fear - страх\n",
        "*   happy - веселый\n",
        "*   sad - грусть\n",
        "*   surprise - удивленность\n",
        "*   uncertain - неуверенность\n"
      ]
    },
    {
      "cell_type": "markdown",
      "metadata": {
        "id": "O1IvWk4wXJAx"
      },
      "source": [
        "#0.Загрузка недостающих библиотек"
      ]
    },
    {
      "cell_type": "code",
      "execution_count": 1,
      "metadata": {
        "colab": {
          "base_uri": "https://localhost:8080/"
        },
        "id": "LxSC1QRTXSS4",
        "outputId": "0f012094-42b8-4117-ab86-28b8868bfd59"
      },
      "outputs": [
        {
          "output_type": "stream",
          "name": "stdout",
          "text": [
            "Collecting keras_applications\n",
            "  Downloading Keras_Applications-1.0.8-py3-none-any.whl (50 kB)\n",
            "\u001b[?25l\r\u001b[K     |██████▌                         | 10 kB 21.1 MB/s eta 0:00:01\r\u001b[K     |█████████████                   | 20 kB 22.3 MB/s eta 0:00:01\r\u001b[K     |███████████████████▍            | 30 kB 19.1 MB/s eta 0:00:01\r\u001b[K     |█████████████████████████▉      | 40 kB 13.0 MB/s eta 0:00:01\r\u001b[K     |████████████████████████████████| 50 kB 2.9 MB/s \n",
            "\u001b[?25hRequirement already satisfied: h5py in /usr/local/lib/python3.7/dist-packages (from keras_applications) (3.1.0)\n",
            "Requirement already satisfied: numpy>=1.9.1 in /usr/local/lib/python3.7/dist-packages (from keras_applications) (1.21.5)\n",
            "Requirement already satisfied: cached-property in /usr/local/lib/python3.7/dist-packages (from h5py->keras_applications) (1.5.2)\n",
            "Installing collected packages: keras-applications\n",
            "Successfully installed keras-applications-1.0.8\n"
          ]
        }
      ],
      "source": [
        "!pip install keras_applications"
      ]
    },
    {
      "cell_type": "code",
      "execution_count": 2,
      "metadata": {
        "colab": {
          "base_uri": "https://localhost:8080/"
        },
        "id": "lP_yK2ISXWer",
        "outputId": "2d02b6aa-5f18-4ed4-9395-712f8114e950"
      },
      "outputs": [
        {
          "output_type": "stream",
          "name": "stdout",
          "text": [
            "Collecting keras_vggface\n",
            "  Downloading keras_vggface-0.6-py3-none-any.whl (8.3 kB)\n",
            "Requirement already satisfied: pyyaml in /usr/local/lib/python3.7/dist-packages (from keras_vggface) (3.13)\n",
            "Requirement already satisfied: pillow in /usr/local/lib/python3.7/dist-packages (from keras_vggface) (7.1.2)\n",
            "Requirement already satisfied: keras in /usr/local/lib/python3.7/dist-packages (from keras_vggface) (2.8.0)\n",
            "Requirement already satisfied: six>=1.9.0 in /usr/local/lib/python3.7/dist-packages (from keras_vggface) (1.15.0)\n",
            "Requirement already satisfied: scipy>=0.14 in /usr/local/lib/python3.7/dist-packages (from keras_vggface) (1.4.1)\n",
            "Requirement already satisfied: numpy>=1.9.1 in /usr/local/lib/python3.7/dist-packages (from keras_vggface) (1.21.5)\n",
            "Requirement already satisfied: h5py in /usr/local/lib/python3.7/dist-packages (from keras_vggface) (3.1.0)\n",
            "Requirement already satisfied: cached-property in /usr/local/lib/python3.7/dist-packages (from h5py->keras_vggface) (1.5.2)\n",
            "Installing collected packages: keras-vggface\n",
            "Successfully installed keras-vggface-0.6\n"
          ]
        }
      ],
      "source": [
        "!pip install keras_vggface"
      ]
    },
    {
      "cell_type": "code",
      "execution_count": 3,
      "metadata": {
        "colab": {
          "base_uri": "https://localhost:8080/"
        },
        "id": "uZTRF172XcZQ",
        "outputId": "0090c4ce-0a0c-464c-f9ff-54c6d98cb4ef"
      },
      "outputs": [
        {
          "output_type": "stream",
          "name": "stdout",
          "text": [
            "Collecting git+https://github.com/rcmalli/keras-vggface.git\n",
            "  Cloning https://github.com/rcmalli/keras-vggface.git to /tmp/pip-req-build-25ivb9oz\n",
            "  Running command git clone -q https://github.com/rcmalli/keras-vggface.git /tmp/pip-req-build-25ivb9oz\n",
            "Requirement already satisfied: numpy>=1.9.1 in /usr/local/lib/python3.7/dist-packages (from keras-vggface==0.6) (1.21.5)\n",
            "Requirement already satisfied: scipy>=0.14 in /usr/local/lib/python3.7/dist-packages (from keras-vggface==0.6) (1.4.1)\n",
            "Requirement already satisfied: h5py in /usr/local/lib/python3.7/dist-packages (from keras-vggface==0.6) (3.1.0)\n",
            "Requirement already satisfied: pillow in /usr/local/lib/python3.7/dist-packages (from keras-vggface==0.6) (7.1.2)\n",
            "Requirement already satisfied: keras in /usr/local/lib/python3.7/dist-packages (from keras-vggface==0.6) (2.8.0)\n",
            "Requirement already satisfied: six>=1.9.0 in /usr/local/lib/python3.7/dist-packages (from keras-vggface==0.6) (1.15.0)\n",
            "Requirement already satisfied: pyyaml in /usr/local/lib/python3.7/dist-packages (from keras-vggface==0.6) (3.13)\n",
            "Requirement already satisfied: cached-property in /usr/local/lib/python3.7/dist-packages (from h5py->keras-vggface==0.6) (1.5.2)\n"
          ]
        }
      ],
      "source": [
        "!pip install git+https://github.com/rcmalli/keras-vggface.git"
      ]
    },
    {
      "cell_type": "code",
      "execution_count": 4,
      "metadata": {
        "colab": {
          "base_uri": "https://localhost:8080/"
        },
        "id": "kvyEIRC_VN1s",
        "outputId": "cedb298e-5530-4ceb-e52a-fb80ec46af1a"
      },
      "outputs": [
        {
          "output_type": "stream",
          "name": "stdout",
          "text": [
            "Requirement already satisfied: gdown in /usr/local/lib/python3.7/dist-packages (4.2.2)\n",
            "Requirement already satisfied: filelock in /usr/local/lib/python3.7/dist-packages (from gdown) (3.6.0)\n",
            "Requirement already satisfied: six in /usr/local/lib/python3.7/dist-packages (from gdown) (1.15.0)\n",
            "Requirement already satisfied: beautifulsoup4 in /usr/local/lib/python3.7/dist-packages (from gdown) (4.6.3)\n",
            "Requirement already satisfied: tqdm in /usr/local/lib/python3.7/dist-packages (from gdown) (4.63.0)\n",
            "Requirement already satisfied: requests[socks] in /usr/local/lib/python3.7/dist-packages (from gdown) (2.23.0)\n",
            "Requirement already satisfied: certifi>=2017.4.17 in /usr/local/lib/python3.7/dist-packages (from requests[socks]->gdown) (2021.10.8)\n",
            "Requirement already satisfied: urllib3!=1.25.0,!=1.25.1,<1.26,>=1.21.1 in /usr/local/lib/python3.7/dist-packages (from requests[socks]->gdown) (1.24.3)\n",
            "Requirement already satisfied: idna<3,>=2.5 in /usr/local/lib/python3.7/dist-packages (from requests[socks]->gdown) (2.10)\n",
            "Requirement already satisfied: chardet<4,>=3.0.2 in /usr/local/lib/python3.7/dist-packages (from requests[socks]->gdown) (3.0.4)\n",
            "Requirement already satisfied: PySocks!=1.5.7,>=1.5.6 in /usr/local/lib/python3.7/dist-packages (from requests[socks]->gdown) (1.7.1)\n"
          ]
        }
      ],
      "source": [
        "!pip install gdown"
      ]
    },
    {
      "cell_type": "markdown",
      "metadata": {
        "id": "UTTGuyzOXnmc"
      },
      "source": [
        "#1.Импорт необходимых библиотек и загрузка файлов\n"
      ]
    },
    {
      "cell_type": "code",
      "execution_count": 6,
      "metadata": {
        "id": "YQsxuBOwb3W7"
      },
      "outputs": [],
      "source": [
        "#Импорт библиотек\n",
        "import tensorflow as tf\n",
        "import pandas as pd\n",
        "import numpy as np\n",
        "from tensorflow.keras.models import load_model\n",
        "from sklearn import preprocessing\n",
        "from matplotlib import pyplot as plt\n",
        "from PIL import Image\n",
        "import os \n",
        "import urllib.request\n",
        "import zipfile #Открыть архивы с данными\n",
        "import shutil # для перемещения и копирования файла\n",
        "import gdown\n",
        "from tensorflow.keras.preprocessing import image #Загрузка фото\n",
        "import requests"
      ]
    },
    {
      "cell_type": "code",
      "execution_count": 7,
      "metadata": {
        "id": "28e2PgX76STB"
      },
      "outputs": [],
      "source": [
        "#Функция возвращает название файла загружаемого по ссылке\n",
        "def get_filename(link):\n",
        "  return link.split('/')[-1]\n",
        "#Функция скачивает файл\n",
        "def download_file(link):\n",
        "  req = requests.get(link, allow_redirects=True)\n",
        "  open(get_filename(link), 'wb').write(req.content)"
      ]
    },
    {
      "cell_type": "code",
      "execution_count": 8,
      "metadata": {
        "id": "Q-vMJeb36g2G"
      },
      "outputs": [],
      "source": [
        "#Константы\n",
        "#Путь к тренироваочному датасету\n",
        "PATH_TRAIN_CSV = 'https://raw.githubusercontent.com/poskryobik/Definition_of_emotions/main/train.csv'\n",
        "#Путь к тестовому датасету\n",
        "PATH_SAMPLE_SUBMISSION = 'https://raw.githubusercontent.com/poskryobik/Definition_of_emotions/main/sample_submission.csv'\n",
        "#Путь к файлу конфигурации для класса keras_vggface\n",
        "PATH_CONFIG_FILE = 'https://raw.githubusercontent.com/poskryobik/Definition_of_emotions/main/models.py'\n",
        "#Путь к скаченной модели resnet50\n",
        "PATH_MODEL_RESNET_50 = 'https://drive.google.com/uc?export=download&id=1g3ztp1iVuCKofU4sGsc3t5mF8c1sQsag'\n",
        "#Путь к фото для обучения и тестирования модели\n",
        "PATH_TRAIN_DATA = 'https://drive.google.com/uc?export=download&id=1xaplHpSvZHG-qZcaq56K__otcUm9TXUz'\n",
        "PATH_TEST_DATA = 'https://drive.google.com/uc?export=download&id=1QdhIxh1QUEuLgRb7DWa7RA7CA08ybNRJ'"
      ]
    },
    {
      "cell_type": "code",
      "execution_count": 19,
      "metadata": {
        "id": "kr5t549WCmD1"
      },
      "outputs": [],
      "source": [
        "#Скачивание нужных файлов\n",
        "download_file(PATH_TRAIN_CSV)\n",
        "download_file(PATH_SAMPLE_SUBMISSION)\n",
        "download_file(PATH_CONFIG_FILE)"
      ]
    },
    {
      "cell_type": "code",
      "execution_count": null,
      "metadata": {
        "colab": {
          "base_uri": "https://localhost:8080/"
        },
        "id": "JBpdDuR14v6v",
        "outputId": "a81998ac-5c3a-4952-c97c-cdbb247e3b9b"
      },
      "outputs": [
        {
          "name": "stderr",
          "output_type": "stream",
          "text": [
            "Downloading...\n",
            "From: https://drive.google.com/uc?export=download&id=1xaplHpSvZHG-qZcaq56K__otcUm9TXUz\n",
            "To: C:\\Users\\Noname\\Downloads\\train.zip\n",
            "100%|██████████| 2.27G/2.27G [00:37<00:00, 60.4MB/s]\n"
          ]
        },
        {
          "data": {
            "text/plain": [
              "'train.zip'"
            ]
          },
          "execution_count": 8,
          "metadata": {},
          "output_type": "execute_result"
        }
      ],
      "source": [
        "#Загрузка тренировочных данных\n",
        "gdown.download(PATH_TRAIN_DATA,'train.zip', quiet=False)"
      ]
    },
    {
      "cell_type": "code",
      "execution_count": null,
      "metadata": {
        "scrolled": false,
        "id": "k9ENMOpuuyQe",
        "outputId": "7e0a4fdd-ca87-4569-a88d-f6d8b5bded8b"
      },
      "outputs": [
        {
          "name": "stderr",
          "output_type": "stream",
          "text": [
            "Downloading...\n",
            "From: https://drive.google.com/uc?export=download&id=1QdhIxh1QUEuLgRb7DWa7RA7CA08ybNRJ\n",
            "To: C:\\Users\\Noname\\Downloads\\test_kaggle.zip\n",
            "\n",
            "  0%|          | 0.00/2.27G [00:00<?, ?B/s]\u001b[A\n",
            "  0%|          | 524k/2.27G [00:00<35:10, 1.08MB/s]\u001b[A\n",
            "  0%|          | 3.15M/2.27G [00:00<05:37, 6.72MB/s]\u001b[A\n",
            "  0%|          | 7.34M/2.27G [00:01<05:02, 7.50MB/s]\u001b[A\n",
            "  0%|          | 8.91M/2.27G [00:01<05:26, 6.95MB/s]\u001b[A\n",
            "  1%|          | 15.2M/2.27G [00:01<02:32, 14.8MB/s]\u001b[A\n",
            "  1%|          | 23.6M/2.27G [00:01<01:26, 26.0MB/s]\u001b[A\n",
            "  1%|▏         | 32.0M/2.27G [00:01<01:00, 36.8MB/s]\u001b[A\n",
            "  2%|▏         | 40.4M/2.27G [00:01<00:48, 46.1MB/s]\u001b[A\n",
            "  2%|▏         | 48.8M/2.27G [00:01<00:41, 54.3MB/s]\u001b[A\n",
            "  2%|▏         | 56.6M/2.27G [00:02<00:37, 59.7MB/s]\u001b[A\n",
            "  3%|▎         | 65.0M/2.27G [00:02<00:33, 65.3MB/s]\u001b[A\n",
            "  3%|▎         | 72.9M/2.27G [00:02<00:32, 68.8MB/s]\u001b[A\n",
            "  4%|▎         | 81.3M/2.27G [00:02<00:30, 72.0MB/s]\u001b[A\n",
            "  4%|▍         | 89.1M/2.27G [00:02<00:30, 72.1MB/s]\u001b[A\n",
            "  4%|▍         | 97.5M/2.27G [00:02<00:29, 74.6MB/s]\u001b[A\n",
            "  5%|▍         | 106M/2.27G [00:02<00:28, 75.5MB/s] \u001b[A\n",
            "  5%|▌         | 114M/2.27G [00:02<00:28, 76.1MB/s]\u001b[A\n",
            "  5%|▌         | 122M/2.27G [00:02<00:28, 76.0MB/s]\u001b[A\n",
            "  6%|▌         | 130M/2.27G [00:02<00:28, 74.2MB/s]\u001b[A\n",
            "  6%|▌         | 138M/2.27G [00:03<00:30, 69.9MB/s]\u001b[A\n",
            "  6%|▋         | 145M/2.27G [00:03<00:32, 66.5MB/s]\u001b[A\n",
            "  7%|▋         | 153M/2.27G [00:03<00:31, 67.6MB/s]\u001b[A\n",
            "  7%|▋         | 160M/2.27G [00:03<00:30, 68.2MB/s]\u001b[A\n",
            "  7%|▋         | 168M/2.27G [00:03<00:29, 70.5MB/s]\u001b[A\n",
            "  8%|▊         | 176M/2.27G [00:03<00:29, 71.2MB/s]\u001b[A\n",
            "  8%|▊         | 183M/2.27G [00:03<00:29, 70.9MB/s]\u001b[A\n",
            "  8%|▊         | 191M/2.27G [00:03<00:28, 72.3MB/s]\u001b[A\n",
            "  9%|▊         | 198M/2.27G [00:03<00:29, 71.0MB/s]\u001b[A\n",
            "  9%|▉         | 206M/2.27G [00:04<00:28, 71.7MB/s]\u001b[A\n",
            "  9%|▉         | 213M/2.27G [00:04<00:29, 69.7MB/s]\u001b[A\n",
            " 10%|▉         | 221M/2.27G [00:04<00:28, 71.5MB/s]\u001b[A\n",
            " 10%|█         | 229M/2.27G [00:04<00:27, 73.4MB/s]\u001b[A\n",
            " 10%|█         | 237M/2.27G [00:04<00:27, 74.9MB/s]\u001b[A\n",
            " 11%|█         | 245M/2.27G [00:04<00:27, 74.9MB/s]\u001b[A\n",
            " 11%|█         | 253M/2.27G [00:04<00:26, 75.6MB/s]\u001b[A\n",
            " 11%|█▏        | 261M/2.27G [00:04<00:27, 73.9MB/s]\u001b[A\n",
            " 12%|█▏        | 269M/2.27G [00:04<00:27, 73.3MB/s]\u001b[A\n",
            " 12%|█▏        | 277M/2.27G [00:05<00:26, 75.4MB/s]\u001b[A\n",
            " 13%|█▎        | 286M/2.27G [00:05<00:25, 76.8MB/s]\u001b[A\n",
            " 13%|█▎        | 294M/2.27G [00:05<00:25, 77.1MB/s]\u001b[A\n",
            " 13%|█▎        | 301M/2.27G [00:05<00:26, 75.6MB/s]\u001b[A\n",
            " 14%|█▎        | 309M/2.27G [00:05<00:26, 74.2MB/s]\u001b[A\n",
            " 14%|█▍        | 317M/2.27G [00:05<00:32, 60.3MB/s]\u001b[A\n",
            " 14%|█▍        | 324M/2.27G [00:05<00:33, 57.8MB/s]\u001b[A\n",
            " 15%|█▍        | 332M/2.27G [00:05<00:31, 62.3MB/s]\u001b[A\n",
            " 15%|█▍        | 340M/2.27G [00:05<00:28, 67.2MB/s]\u001b[A\n",
            " 15%|█▌        | 349M/2.27G [00:06<00:26, 71.7MB/s]\u001b[A\n",
            " 16%|█▌        | 357M/2.27G [00:06<00:26, 72.8MB/s]\u001b[A\n",
            " 16%|█▌        | 364M/2.27G [00:06<00:26, 71.2MB/s]\u001b[A\n",
            " 16%|█▋        | 372M/2.27G [00:06<00:26, 71.7MB/s]\u001b[A\n",
            " 17%|█▋        | 380M/2.27G [00:06<00:28, 65.4MB/s]\u001b[A\n",
            " 17%|█▋        | 386M/2.27G [00:06<00:30, 61.0MB/s]\u001b[A\n",
            " 17%|█▋        | 393M/2.27G [00:06<00:32, 58.5MB/s]\u001b[A\n",
            " 18%|█▊        | 399M/2.27G [00:06<00:34, 55.0MB/s]\u001b[A\n",
            " 18%|█▊        | 406M/2.27G [00:07<00:32, 57.8MB/s]\u001b[A\n",
            " 18%|█▊        | 412M/2.27G [00:07<00:35, 52.0MB/s]\u001b[A\n",
            " 18%|█▊        | 418M/2.27G [00:07<00:35, 51.8MB/s]\u001b[A\n",
            " 19%|█▊        | 424M/2.27G [00:07<00:35, 51.7MB/s]\u001b[A\n",
            " 19%|█▉        | 429M/2.27G [00:07<00:35, 51.7MB/s]\u001b[A\n",
            " 19%|█▉        | 435M/2.27G [00:07<00:35, 51.3MB/s]\u001b[A\n",
            " 19%|█▉        | 440M/2.27G [00:07<00:35, 51.5MB/s]\u001b[A\n",
            " 20%|█▉        | 445M/2.27G [00:07<00:36, 50.5MB/s]\u001b[A\n",
            " 20%|█▉        | 451M/2.27G [00:07<00:35, 51.4MB/s]\u001b[A\n",
            " 20%|██        | 456M/2.27G [00:08<00:35, 51.1MB/s]\u001b[A\n",
            " 20%|██        | 461M/2.27G [00:08<00:35, 50.9MB/s]\u001b[A\n",
            " 21%|██        | 467M/2.27G [00:08<00:35, 51.1MB/s]\u001b[A\n",
            " 21%|██        | 473M/2.27G [00:08<00:34, 53.0MB/s]\u001b[A\n",
            " 21%|██        | 480M/2.27G [00:08<00:32, 55.4MB/s]\u001b[A\n",
            " 21%|██▏       | 487M/2.27G [00:08<00:29, 60.5MB/s]\u001b[A\n",
            " 22%|██▏       | 495M/2.27G [00:08<00:27, 65.0MB/s]\u001b[A\n",
            " 22%|██▏       | 503M/2.27G [00:08<00:25, 68.2MB/s]\u001b[A\n",
            " 22%|██▏       | 510M/2.27G [00:08<00:26, 67.4MB/s]\u001b[A\n",
            " 23%|██▎       | 518M/2.27G [00:09<00:25, 69.8MB/s]\u001b[A\n",
            " 23%|██▎       | 525M/2.27G [00:09<00:24, 70.7MB/s]\u001b[A\n",
            " 23%|██▎       | 533M/2.27G [00:09<00:25, 67.5MB/s]\u001b[A\n",
            " 24%|██▍       | 541M/2.27G [00:09<00:24, 70.6MB/s]\u001b[A\n",
            " 24%|██▍       | 548M/2.27G [00:09<00:26, 64.1MB/s]\u001b[A\n",
            " 24%|██▍       | 555M/2.27G [00:09<00:26, 63.8MB/s]\u001b[A\n",
            " 25%|██▍       | 563M/2.27G [00:09<00:26, 63.4MB/s]\u001b[A\n",
            " 25%|██▌       | 569M/2.27G [00:09<00:27, 61.9MB/s]\u001b[A\n",
            " 25%|██▌       | 576M/2.27G [00:09<00:29, 57.8MB/s]\u001b[A\n",
            " 26%|██▌       | 584M/2.27G [00:10<00:27, 62.0MB/s]\u001b[A\n",
            " 26%|██▌       | 590M/2.27G [00:10<00:28, 58.9MB/s]\u001b[A\n",
            " 26%|██▌       | 596M/2.27G [00:10<00:31, 53.1MB/s]\u001b[A\n",
            " 27%|██▋       | 604M/2.27G [00:10<00:28, 59.4MB/s]\u001b[A\n",
            " 27%|██▋       | 610M/2.27G [00:10<00:30, 55.1MB/s]\u001b[A\n",
            " 27%|██▋       | 616M/2.27G [00:10<00:30, 54.5MB/s]\u001b[A\n",
            " 27%|██▋       | 622M/2.27G [00:10<00:31, 53.1MB/s]\u001b[A\n",
            " 28%|██▊       | 628M/2.27G [00:10<00:30, 53.2MB/s]\u001b[A\n",
            " 28%|██▊       | 633M/2.27G [00:11<00:31, 51.6MB/s]\u001b[A\n",
            " 28%|██▊       | 639M/2.27G [00:11<00:31, 51.5MB/s]\u001b[A\n",
            " 28%|██▊       | 644M/2.27G [00:11<00:31, 51.0MB/s]\u001b[A\n",
            " 29%|██▊       | 650M/2.27G [00:11<00:30, 53.1MB/s]\u001b[A\n",
            " 29%|██▉       | 656M/2.27G [00:11<00:30, 52.6MB/s]\u001b[A\n",
            " 29%|██▉       | 662M/2.27G [00:11<00:30, 52.8MB/s]\u001b[A\n",
            " 29%|██▉       | 667M/2.27G [00:11<00:30, 52.4MB/s]\u001b[A\n",
            " 30%|██▉       | 673M/2.27G [00:11<00:30, 52.4MB/s]\u001b[A\n",
            " 30%|██▉       | 680M/2.27G [00:11<00:28, 56.3MB/s]\u001b[A\n",
            " 30%|███       | 687M/2.27G [00:11<00:26, 58.9MB/s]\u001b[A\n",
            " 31%|███       | 695M/2.27G [00:12<00:24, 64.5MB/s]\u001b[A\n",
            " 31%|███       | 704M/2.27G [00:12<00:22, 68.5MB/s]\u001b[A\n",
            " 31%|███▏      | 711M/2.27G [00:12<00:22, 70.6MB/s]\u001b[A\n",
            " 32%|███▏      | 719M/2.27G [00:12<00:22, 69.8MB/s]\u001b[A\n",
            " 32%|███▏      | 726M/2.27G [00:12<00:21, 70.8MB/s]\u001b[A\n",
            " 32%|███▏      | 733M/2.27G [00:12<00:25, 61.6MB/s]\u001b[A\n",
            " 33%|███▎      | 740M/2.27G [00:12<00:24, 62.6MB/s]\u001b[A\n",
            " 33%|███▎      | 747M/2.27G [00:12<00:30, 50.8MB/s]\u001b[A\n",
            " 33%|███▎      | 753M/2.27G [00:13<00:31, 48.6MB/s]\u001b[A\n",
            " 33%|███▎      | 759M/2.27G [00:13<00:29, 51.8MB/s]\u001b[A\n",
            " 34%|███▎      | 767M/2.27G [00:13<00:26, 57.2MB/s]\u001b[A\n",
            " 34%|███▍      | 773M/2.27G [00:13<00:25, 59.5MB/s]\u001b[A\n",
            " 34%|███▍      | 781M/2.27G [00:13<00:23, 64.3MB/s]\u001b[A\n",
            " 35%|███▍      | 789M/2.27G [00:13<00:22, 66.8MB/s]\u001b[A\n",
            " 35%|███▌      | 797M/2.27G [00:13<00:21, 70.0MB/s]\u001b[A\n",
            " 35%|███▌      | 804M/2.27G [00:13<00:20, 71.0MB/s]\u001b[A\n",
            " 36%|███▌      | 812M/2.27G [00:13<00:23, 63.6MB/s]\u001b[A\n",
            " 36%|███▌      | 818M/2.27G [00:14<00:23, 62.8MB/s]\u001b[A\n",
            " 36%|███▋      | 825M/2.27G [00:14<00:24, 60.3MB/s]\u001b[A\n",
            " 37%|███▋      | 833M/2.27G [00:14<00:23, 61.8MB/s]\u001b[A\n",
            " 37%|███▋      | 839M/2.27G [00:14<00:24, 58.9MB/s]\u001b[A\n",
            " 37%|███▋      | 845M/2.27G [00:14<00:25, 56.7MB/s]\u001b[A\n",
            " 37%|███▋      | 851M/2.27G [00:14<00:25, 55.8MB/s]\u001b[A\n",
            " 38%|███▊      | 857M/2.27G [00:14<00:25, 55.1MB/s]\u001b[A\n",
            " 38%|███▊      | 862M/2.27G [00:14<00:26, 54.0MB/s]\u001b[A\n",
            " 38%|███▊      | 868M/2.27G [00:14<00:26, 53.9MB/s]\u001b[A\n",
            " 38%|███▊      | 874M/2.27G [00:15<00:27, 50.4MB/s]\u001b[A\n",
            " 39%|███▊      | 879M/2.27G [00:15<00:27, 50.4MB/s]\u001b[A\n",
            " 39%|███▉      | 886M/2.27G [00:15<00:25, 53.5MB/s]\u001b[A\n",
            " 39%|███▉      | 892M/2.27G [00:15<00:25, 54.1MB/s]\u001b[A\n",
            " 39%|███▉      | 898M/2.27G [00:15<00:25, 53.9MB/s]\u001b[A\n",
            " 40%|███▉      | 904M/2.27G [00:15<00:24, 56.4MB/s]\u001b[A\n",
            " 40%|███▉      | 910M/2.27G [00:15<00:24, 56.1MB/s]\u001b[A\n",
            " 40%|████      | 918M/2.27G [00:15<00:21, 61.9MB/s]\u001b[A\n",
            " 41%|████      | 925M/2.27G [00:15<00:20, 66.0MB/s]\u001b[A\n",
            " 41%|████      | 932M/2.27G [00:16<00:21, 63.5MB/s]\u001b[A\n",
            " 41%|████▏     | 940M/2.27G [00:16<00:20, 65.6MB/s]\u001b[A\n",
            " 42%|████▏     | 947M/2.27G [00:16<00:19, 67.8MB/s]\u001b[A\n",
            " 42%|████▏     | 956M/2.27G [00:16<00:18, 70.8MB/s]\u001b[A\n",
            " 42%|████▏     | 963M/2.27G [00:16<00:18, 69.1MB/s]\u001b[A\n",
            " 43%|████▎     | 970M/2.27G [00:16<00:23, 56.3MB/s]\u001b[A\n",
            " 43%|████▎     | 978M/2.27G [00:16<00:22, 58.6MB/s]\u001b[A\n",
            " 43%|████▎     | 984M/2.27G [00:16<00:24, 53.7MB/s]\u001b[A\n",
            " 44%|████▎     | 993M/2.27G [00:17<00:20, 61.7MB/s]\u001b[A\n",
            " 44%|████▍     | 1.00G/2.27G [00:17<00:22, 56.8MB/s]\u001b[A\n",
            " 44%|████▍     | 1.01G/2.27G [00:17<00:23, 54.5MB/s]\u001b[A\n"
          ]
        },
        {
          "name": "stderr",
          "output_type": "stream",
          "text": [
            " 45%|████▍     | 1.01G/2.27G [00:17<00:22, 55.9MB/s]\u001b[A\n",
            " 45%|████▍     | 1.02G/2.27G [00:17<00:22, 54.7MB/s]\u001b[A\n",
            " 45%|████▌     | 1.02G/2.27G [00:17<00:22, 55.1MB/s]\u001b[A\n",
            " 45%|████▌     | 1.03G/2.27G [00:17<00:23, 52.4MB/s]\u001b[A\n",
            " 46%|████▌     | 1.04G/2.27G [00:17<00:22, 55.4MB/s]\u001b[A\n",
            " 46%|████▌     | 1.04G/2.27G [00:17<00:22, 54.8MB/s]\u001b[A\n",
            " 46%|████▌     | 1.05G/2.27G [00:18<00:22, 55.0MB/s]\u001b[A\n",
            " 46%|████▋     | 1.05G/2.27G [00:18<00:23, 52.3MB/s]\u001b[A\n",
            " 47%|████▋     | 1.06G/2.27G [00:18<00:22, 55.2MB/s]\u001b[A\n",
            " 47%|████▋     | 1.07G/2.27G [00:18<00:21, 56.7MB/s]\u001b[A\n",
            " 47%|████▋     | 1.07G/2.27G [00:18<00:21, 55.1MB/s]\u001b[A\n",
            " 47%|████▋     | 1.08G/2.27G [00:18<00:19, 61.5MB/s]\u001b[A\n",
            " 48%|████▊     | 1.09G/2.27G [00:18<00:18, 65.7MB/s]\u001b[A\n",
            " 48%|████▊     | 1.10G/2.27G [00:18<00:17, 69.3MB/s]\u001b[A\n",
            " 49%|████▊     | 1.10G/2.27G [00:18<00:16, 72.7MB/s]\u001b[A\n",
            " 49%|████▉     | 1.11G/2.27G [00:19<00:17, 68.1MB/s]\u001b[A\n",
            " 49%|████▉     | 1.12G/2.27G [00:19<00:19, 59.6MB/s]\u001b[A\n",
            " 50%|████▉     | 1.13G/2.27G [00:19<00:18, 61.8MB/s]\u001b[A\n",
            " 50%|████▉     | 1.13G/2.27G [00:19<00:20, 55.9MB/s]\u001b[A\n",
            " 50%|█████     | 1.14G/2.27G [00:19<00:20, 54.9MB/s]\u001b[A\n",
            " 50%|█████     | 1.15G/2.27G [00:19<00:21, 52.2MB/s]\u001b[A\n",
            " 51%|█████     | 1.15G/2.27G [00:19<00:18, 60.2MB/s]\u001b[A\n",
            " 51%|█████     | 1.16G/2.27G [00:19<00:20, 55.0MB/s]\u001b[A\n",
            " 51%|█████▏    | 1.17G/2.27G [00:20<00:19, 55.8MB/s]\u001b[A\n",
            " 52%|█████▏    | 1.17G/2.27G [00:20<00:19, 56.7MB/s]\u001b[A\n",
            " 52%|█████▏    | 1.18G/2.27G [00:20<00:19, 56.2MB/s]\u001b[A\n",
            " 52%|█████▏    | 1.19G/2.27G [00:20<00:22, 49.2MB/s]\u001b[A\n",
            " 52%|█████▏    | 1.19G/2.27G [00:20<00:20, 53.4MB/s]\u001b[A\n",
            " 53%|█████▎    | 1.20G/2.27G [00:20<00:19, 54.5MB/s]\u001b[A\n",
            " 53%|█████▎    | 1.20G/2.27G [00:20<00:19, 54.2MB/s]\u001b[A\n",
            " 53%|█████▎    | 1.21G/2.27G [00:20<00:17, 60.4MB/s]\u001b[A\n",
            " 54%|█████▎    | 1.22G/2.27G [00:20<00:16, 62.8MB/s]\u001b[A\n",
            " 54%|█████▍    | 1.23G/2.27G [00:21<00:20, 52.0MB/s]\u001b[A\n",
            " 54%|█████▍    | 1.23G/2.27G [00:21<00:18, 57.1MB/s]\u001b[A\n",
            " 55%|█████▍    | 1.24G/2.27G [00:21<00:17, 57.9MB/s]\u001b[A\n",
            " 55%|█████▍    | 1.25G/2.27G [00:21<00:17, 59.2MB/s]\u001b[A\n",
            " 55%|█████▌    | 1.25G/2.27G [00:21<00:16, 61.5MB/s]\u001b[A\n",
            " 55%|█████▌    | 1.26G/2.27G [00:21<00:16, 61.3MB/s]\u001b[A\n",
            " 56%|█████▌    | 1.27G/2.27G [00:21<00:16, 59.7MB/s]\u001b[A\n",
            " 56%|█████▌    | 1.27G/2.27G [00:21<00:16, 59.8MB/s]\u001b[A\n",
            " 56%|█████▋    | 1.28G/2.27G [00:22<00:16, 59.6MB/s]\u001b[A\n",
            " 57%|█████▋    | 1.29G/2.27G [00:22<00:19, 50.2MB/s]\u001b[A\n",
            " 57%|█████▋    | 1.29G/2.27G [00:22<00:21, 45.0MB/s]\u001b[A\n",
            " 57%|█████▋    | 1.30G/2.27G [00:22<00:18, 51.5MB/s]\u001b[A\n",
            " 58%|█████▊    | 1.31G/2.27G [00:22<00:16, 58.8MB/s]\u001b[A\n",
            " 58%|█████▊    | 1.31G/2.27G [00:22<00:16, 59.6MB/s]\u001b[A\n",
            " 58%|█████▊    | 1.32G/2.27G [00:22<00:15, 63.0MB/s]\u001b[A\n",
            " 58%|█████▊    | 1.33G/2.27G [00:22<00:14, 67.4MB/s]\u001b[A\n",
            " 59%|█████▉    | 1.34G/2.27G [00:23<00:13, 69.1MB/s]\u001b[A\n",
            " 59%|█████▉    | 1.35G/2.27G [00:23<00:15, 58.1MB/s]\u001b[A\n",
            " 59%|█████▉    | 1.35G/2.27G [00:23<00:16, 55.3MB/s]\u001b[A\n",
            " 60%|█████▉    | 1.36G/2.27G [00:23<00:15, 59.2MB/s]\u001b[A\n",
            " 60%|██████    | 1.37G/2.27G [00:23<00:16, 56.2MB/s]\u001b[A\n",
            " 60%|██████    | 1.37G/2.27G [00:23<00:16, 56.2MB/s]\u001b[A\n",
            " 61%|██████    | 1.38G/2.27G [00:23<00:15, 56.8MB/s]\u001b[A\n",
            " 61%|██████    | 1.38G/2.27G [00:23<00:15, 56.9MB/s]\u001b[A\n",
            " 61%|██████    | 1.39G/2.27G [00:23<00:15, 56.7MB/s]\u001b[A\n",
            " 61%|██████▏   | 1.40G/2.27G [00:24<00:15, 56.6MB/s]\u001b[A\n",
            " 62%|██████▏   | 1.40G/2.27G [00:24<00:15, 56.7MB/s]\u001b[A\n",
            " 62%|██████▏   | 1.41G/2.27G [00:24<00:15, 56.6MB/s]\u001b[A\n",
            " 62%|██████▏   | 1.41G/2.27G [00:24<00:15, 55.8MB/s]\u001b[A\n",
            " 62%|██████▏   | 1.42G/2.27G [00:24<00:15, 56.7MB/s]\u001b[A\n",
            " 63%|██████▎   | 1.43G/2.27G [00:24<00:15, 56.7MB/s]\u001b[A\n",
            " 63%|██████▎   | 1.43G/2.27G [00:24<00:14, 56.5MB/s]\u001b[A\n",
            " 63%|██████▎   | 1.44G/2.27G [00:24<00:14, 58.7MB/s]\u001b[A\n",
            " 64%|██████▎   | 1.44G/2.27G [00:24<00:13, 62.4MB/s]\u001b[A\n",
            " 64%|██████▍   | 1.45G/2.27G [00:25<00:12, 66.4MB/s]\u001b[A\n",
            " 64%|██████▍   | 1.46G/2.27G [00:25<00:11, 68.2MB/s]\u001b[A\n",
            " 65%|██████▍   | 1.47G/2.27G [00:25<00:12, 63.1MB/s]\u001b[A\n",
            " 65%|██████▍   | 1.47G/2.27G [00:25<00:13, 61.6MB/s]\u001b[A\n",
            " 65%|██████▌   | 1.48G/2.27G [00:25<00:14, 56.0MB/s]\u001b[A\n",
            " 65%|██████▌   | 1.49G/2.27G [00:25<00:14, 53.9MB/s]\u001b[A\n",
            " 66%|██████▌   | 1.49G/2.27G [00:25<00:13, 58.1MB/s]\u001b[A\n",
            " 66%|██████▌   | 1.50G/2.27G [00:25<00:14, 53.6MB/s]\u001b[A\n",
            " 66%|██████▌   | 1.51G/2.27G [00:26<00:14, 54.1MB/s]\u001b[A\n",
            " 66%|██████▋   | 1.51G/2.27G [00:26<00:14, 54.3MB/s]\u001b[A\n",
            " 67%|██████▋   | 1.52G/2.27G [00:26<00:13, 54.5MB/s]\u001b[A\n",
            " 67%|██████▋   | 1.52G/2.27G [00:26<00:13, 54.6MB/s]\u001b[A\n",
            " 67%|██████▋   | 1.53G/2.27G [00:26<00:13, 54.5MB/s]\u001b[A\n",
            " 68%|██████▊   | 1.54G/2.27G [00:26<00:13, 54.7MB/s]\u001b[A\n",
            " 68%|██████▊   | 1.54G/2.27G [00:26<00:13, 54.7MB/s]\u001b[A\n",
            " 68%|██████▊   | 1.55G/2.27G [00:26<00:13, 54.6MB/s]\u001b[A\n",
            " 68%|██████▊   | 1.55G/2.27G [00:26<00:13, 54.8MB/s]\u001b[A\n",
            " 69%|██████▊   | 1.56G/2.27G [00:26<00:13, 54.9MB/s]\u001b[A\n",
            " 69%|██████▉   | 1.56G/2.27G [00:27<00:12, 56.4MB/s]\u001b[A\n",
            " 69%|██████▉   | 1.57G/2.27G [00:27<00:12, 57.8MB/s]\u001b[A\n",
            " 69%|██████▉   | 1.58G/2.27G [00:27<00:12, 57.2MB/s]\u001b[A\n",
            " 70%|██████▉   | 1.59G/2.27G [00:27<00:10, 64.2MB/s]\u001b[A\n",
            " 70%|███████   | 1.59G/2.27G [00:27<00:09, 69.1MB/s]\u001b[A\n",
            " 70%|███████   | 1.60G/2.27G [00:27<00:09, 71.7MB/s]\u001b[A\n",
            " 71%|███████   | 1.61G/2.27G [00:27<00:09, 66.7MB/s]\u001b[A\n",
            " 71%|███████   | 1.62G/2.27G [00:27<00:10, 60.4MB/s]\u001b[A\n",
            " 71%|███████▏  | 1.62G/2.27G [00:27<00:11, 58.3MB/s]\u001b[A\n",
            " 72%|███████▏  | 1.63G/2.27G [00:28<00:11, 54.6MB/s]\u001b[A\n",
            " 72%|███████▏  | 1.63G/2.27G [00:28<00:11, 53.9MB/s]\u001b[A\n",
            " 72%|███████▏  | 1.64G/2.27G [00:28<00:12, 52.4MB/s]\u001b[A\n",
            " 72%|███████▏  | 1.65G/2.27G [00:28<00:12, 51.4MB/s]\u001b[A\n",
            " 73%|███████▎  | 1.65G/2.27G [00:28<00:12, 49.4MB/s]\u001b[A\n",
            " 73%|███████▎  | 1.66G/2.27G [00:28<00:12, 50.4MB/s]\u001b[A\n",
            " 73%|███████▎  | 1.66G/2.27G [00:28<00:12, 49.2MB/s]\u001b[A\n",
            " 73%|███████▎  | 1.67G/2.27G [00:28<00:12, 49.8MB/s]\u001b[A\n",
            " 74%|███████▎  | 1.67G/2.27G [00:29<00:12, 49.9MB/s]\u001b[A\n",
            " 74%|███████▍  | 1.68G/2.27G [00:29<00:11, 51.4MB/s]\u001b[A\n",
            " 74%|███████▍  | 1.69G/2.27G [00:29<00:10, 55.3MB/s]\u001b[A\n",
            " 74%|███████▍  | 1.69G/2.27G [00:29<00:09, 61.1MB/s]\u001b[A\n",
            " 75%|███████▍  | 1.70G/2.27G [00:29<00:08, 64.2MB/s]\u001b[A\n",
            " 75%|███████▌  | 1.71G/2.27G [00:29<00:08, 66.7MB/s]\u001b[A\n",
            " 75%|███████▌  | 1.72G/2.27G [00:29<00:08, 65.9MB/s]\u001b[A\n",
            " 76%|███████▌  | 1.72G/2.27G [00:29<00:08, 64.6MB/s]\u001b[A\n",
            " 76%|███████▌  | 1.73G/2.27G [00:29<00:08, 64.7MB/s]\u001b[A\n",
            " 76%|███████▋  | 1.74G/2.27G [00:29<00:07, 67.9MB/s]\u001b[A\n",
            " 77%|███████▋  | 1.75G/2.27G [00:30<00:07, 71.9MB/s]\u001b[A\n",
            " 77%|███████▋  | 1.75G/2.27G [00:30<00:06, 74.9MB/s]\u001b[A\n",
            " 77%|███████▋  | 1.76G/2.27G [00:30<00:06, 75.4MB/s]\u001b[A\n",
            " 78%|███████▊  | 1.77G/2.27G [00:30<00:08, 62.9MB/s]\u001b[A\n",
            " 78%|███████▊  | 1.78G/2.27G [00:30<00:07, 68.2MB/s]\u001b[A\n",
            " 78%|███████▊  | 1.79G/2.27G [00:30<00:07, 62.2MB/s]\u001b[A\n",
            " 79%|███████▉  | 1.79G/2.27G [00:30<00:08, 58.5MB/s]\u001b[A\n",
            " 79%|███████▉  | 1.80G/2.27G [00:30<00:08, 58.0MB/s]\u001b[A\n",
            " 79%|███████▉  | 1.81G/2.27G [00:31<00:08, 57.7MB/s]\u001b[A\n",
            " 80%|███████▉  | 1.81G/2.27G [00:31<00:08, 55.3MB/s]\u001b[A\n",
            " 80%|███████▉  | 1.82G/2.27G [00:31<00:08, 54.1MB/s]\u001b[A\n",
            " 80%|████████  | 1.82G/2.27G [00:31<00:07, 57.8MB/s]\u001b[A\n",
            " 80%|████████  | 1.83G/2.27G [00:31<00:07, 57.2MB/s]\u001b[A\n",
            " 81%|████████  | 1.84G/2.27G [00:31<00:07, 57.0MB/s]\u001b[A\n",
            " 81%|████████  | 1.84G/2.27G [00:31<00:07, 56.9MB/s]\u001b[A\n",
            " 81%|████████  | 1.85G/2.27G [00:31<00:07, 56.6MB/s]\u001b[A\n",
            " 81%|████████▏ | 1.85G/2.27G [00:31<00:07, 56.4MB/s]\u001b[A\n",
            " 82%|████████▏ | 1.86G/2.27G [00:32<00:07, 56.5MB/s]\u001b[A\n",
            " 82%|████████▏ | 1.87G/2.27G [00:32<00:06, 59.2MB/s]\u001b[A\n",
            " 82%|████████▏ | 1.87G/2.27G [00:32<00:06, 62.6MB/s]\u001b[A\n",
            " 83%|████████▎ | 1.88G/2.27G [00:32<00:05, 68.0MB/s]\u001b[A\n",
            " 83%|████████▎ | 1.89G/2.27G [00:32<00:06, 56.7MB/s]\u001b[A\n",
            " 83%|████████▎ | 1.90G/2.27G [00:32<00:06, 62.2MB/s]\u001b[A\n",
            " 84%|████████▎ | 1.90G/2.27G [00:32<00:06, 54.8MB/s]\u001b[A\n",
            " 84%|████████▍ | 1.91G/2.27G [00:32<00:06, 59.3MB/s]\u001b[A\n",
            " 84%|████████▍ | 1.92G/2.27G [00:32<00:06, 54.7MB/s]\u001b[A\n",
            " 85%|████████▍ | 1.92G/2.27G [00:33<00:06, 55.1MB/s]\u001b[A\n",
            " 85%|████████▍ | 1.93G/2.27G [00:33<00:06, 54.4MB/s]\u001b[A\n",
            " 85%|████████▌ | 1.93G/2.27G [00:33<00:06, 53.8MB/s]\u001b[A\n",
            " 85%|████████▌ | 1.94G/2.27G [00:33<00:06, 53.7MB/s]\u001b[A\n",
            " 86%|████████▌ | 1.95G/2.27G [00:33<00:08, 40.6MB/s]\u001b[A\n",
            " 86%|████████▌ | 1.95G/2.27G [00:33<00:07, 42.3MB/s]\u001b[A\n",
            " 86%|████████▌ | 1.96G/2.27G [00:33<00:07, 45.0MB/s]\u001b[A\n",
            " 86%|████████▋ | 1.96G/2.27G [00:33<00:06, 47.1MB/s]\u001b[A\n",
            " 87%|████████▋ | 1.97G/2.27G [00:34<00:06, 48.7MB/s]\u001b[A\n"
          ]
        },
        {
          "name": "stderr",
          "output_type": "stream",
          "text": [
            " 87%|████████▋ | 1.97G/2.27G [00:34<00:06, 49.9MB/s]\u001b[A\n",
            " 87%|████████▋ | 1.98G/2.27G [00:34<00:05, 51.3MB/s]\u001b[A\n",
            " 87%|████████▋ | 1.99G/2.27G [00:34<00:05, 54.1MB/s]\u001b[A\n",
            " 88%|████████▊ | 1.99G/2.27G [00:34<00:04, 58.0MB/s]\u001b[A\n",
            " 88%|████████▊ | 2.00G/2.27G [00:34<00:04, 63.0MB/s]\u001b[A\n",
            " 88%|████████▊ | 2.01G/2.27G [00:34<00:03, 67.3MB/s]\u001b[A\n",
            " 89%|████████▊ | 2.02G/2.27G [00:34<00:03, 66.8MB/s]\u001b[A\n",
            " 89%|████████▉ | 2.02G/2.27G [00:34<00:03, 69.0MB/s]\u001b[A\n",
            " 89%|████████▉ | 2.03G/2.27G [00:35<00:03, 72.2MB/s]\u001b[A\n",
            " 90%|████████▉ | 2.04G/2.27G [00:35<00:03, 65.1MB/s]\u001b[A\n",
            " 90%|████████▉ | 2.05G/2.27G [00:35<00:03, 64.2MB/s]\u001b[A\n",
            " 90%|█████████ | 2.05G/2.27G [00:35<00:03, 66.6MB/s]\u001b[A\n",
            " 91%|█████████ | 2.06G/2.27G [00:35<00:03, 70.4MB/s]\u001b[A\n",
            " 91%|█████████ | 2.07G/2.27G [00:35<00:02, 69.3MB/s]\u001b[A\n",
            " 91%|█████████▏| 2.08G/2.27G [00:35<00:02, 67.2MB/s]\u001b[A\n",
            " 92%|█████████▏| 2.08G/2.27G [00:35<00:02, 68.2MB/s]\u001b[A\n",
            " 92%|█████████▏| 2.09G/2.27G [00:35<00:02, 68.6MB/s]\u001b[A\n",
            " 92%|█████████▏| 2.10G/2.27G [00:36<00:02, 72.3MB/s]\u001b[A\n",
            " 93%|█████████▎| 2.11G/2.27G [00:36<00:02, 70.8MB/s]\u001b[A\n",
            " 93%|█████████▎| 2.12G/2.27G [00:36<00:02, 61.0MB/s]\u001b[A\n",
            " 93%|█████████▎| 2.12G/2.27G [00:36<00:02, 55.7MB/s]\u001b[A\n",
            " 94%|█████████▎| 2.13G/2.27G [00:36<00:02, 58.4MB/s]\u001b[A\n",
            " 94%|█████████▍| 2.14G/2.27G [00:36<00:02, 56.0MB/s]\u001b[A\n",
            " 94%|█████████▍| 2.14G/2.27G [00:36<00:02, 54.7MB/s]\u001b[A\n",
            " 94%|█████████▍| 2.15G/2.27G [00:36<00:02, 53.7MB/s]\u001b[A\n",
            " 95%|█████████▍| 2.15G/2.27G [00:37<00:02, 52.8MB/s]\u001b[A\n",
            " 95%|█████████▍| 2.16G/2.27G [00:37<00:02, 52.4MB/s]\u001b[A\n",
            " 95%|█████████▌| 2.17G/2.27G [00:37<00:02, 52.0MB/s]\u001b[A\n",
            " 95%|█████████▌| 2.17G/2.27G [00:37<00:02, 51.7MB/s]\u001b[A\n",
            " 96%|█████████▌| 2.18G/2.27G [00:37<00:01, 51.5MB/s]\u001b[A\n",
            " 96%|█████████▌| 2.18G/2.27G [00:37<00:01, 49.2MB/s]\u001b[A\n",
            " 96%|█████████▌| 2.19G/2.27G [00:37<00:01, 53.4MB/s]\u001b[A\n",
            " 96%|█████████▋| 2.19G/2.27G [00:37<00:01, 55.9MB/s]\u001b[A\n",
            " 97%|█████████▋| 2.20G/2.27G [00:37<00:01, 55.8MB/s]\u001b[A\n",
            " 97%|█████████▋| 2.21G/2.27G [00:38<00:01, 62.2MB/s]\u001b[A\n",
            " 97%|█████████▋| 2.21G/2.27G [00:38<00:01, 59.1MB/s]\u001b[A\n",
            " 98%|█████████▊| 2.22G/2.27G [00:38<00:00, 56.7MB/s]\u001b[A\n",
            " 98%|█████████▊| 2.23G/2.27G [00:38<00:00, 56.7MB/s]\u001b[A\n",
            " 98%|█████████▊| 2.23G/2.27G [00:38<00:00, 61.2MB/s]\u001b[A\n",
            " 99%|█████████▊| 2.24G/2.27G [00:38<00:00, 64.1MB/s]\u001b[A\n",
            " 99%|█████████▉| 2.25G/2.27G [00:38<00:00, 63.6MB/s]\u001b[A\n",
            " 99%|█████████▉| 2.26G/2.27G [00:38<00:00, 67.5MB/s]\u001b[A\n",
            " 99%|█████████▉| 2.26G/2.27G [00:38<00:00, 60.3MB/s]\u001b[A\n",
            "100%|██████████| 2.27G/2.27G [00:39<00:00, 58.0MB/s]\u001b[A\n"
          ]
        },
        {
          "data": {
            "text/plain": [
              "'test_kaggle.zip'"
            ]
          },
          "execution_count": 12,
          "metadata": {},
          "output_type": "execute_result"
        }
      ],
      "source": [
        "#Загрузка тестовых данных\n",
        "gdown.download(PATH_TEST_DATA,'test_kaggle.zip', quiet=False)"
      ]
    },
    {
      "cell_type": "code",
      "execution_count": null,
      "metadata": {
        "colab": {
          "base_uri": "https://localhost:8080/"
        },
        "id": "uJ_3Qj69AN3r",
        "outputId": "6206d025-0fc9-4ccf-f144-702c09048a28"
      },
      "outputs": [
        {
          "name": "stderr",
          "output_type": "stream",
          "text": [
            "Downloading...\n",
            "From: https://drive.google.com/uc?id=1oHJxVZCcVwp1dgcwDIZL4h97uInxOGWO\n",
            "To: C:\\Users\\Noname\\Downloads\\resnet50face.h5\n",
            "\n",
            "  0%|          | 0.00/166M [00:00<?, ?B/s]\u001b[A\n",
            "  0%|          | 524k/166M [00:00<02:21, 1.17MB/s]\u001b[A\n",
            "  2%|▏         | 3.67M/166M [00:00<00:19, 8.36MB/s]\u001b[A\n",
            "  6%|▌         | 9.96M/166M [00:00<00:07, 22.0MB/s]\u001b[A\n",
            " 10%|█         | 17.3M/166M [00:01<00:08, 17.1MB/s]\u001b[A\n",
            " 13%|█▎        | 21.0M/166M [00:01<00:07, 19.9MB/s]\u001b[A\n",
            " 16%|█▌        | 25.7M/166M [00:01<00:05, 24.7MB/s]\u001b[A\n",
            " 20%|█▉        | 33.0M/166M [00:01<00:03, 34.1MB/s]\u001b[A\n",
            " 24%|██▍       | 39.8M/166M [00:01<00:03, 41.4MB/s]\u001b[A\n",
            " 28%|██▊       | 46.7M/166M [00:01<00:02, 47.2MB/s]\u001b[A\n",
            " 32%|███▏      | 52.4M/166M [00:01<00:02, 39.6MB/s]\u001b[A\n",
            " 40%|███▉      | 65.5M/166M [00:01<00:01, 59.6MB/s]\u001b[A\n",
            " 44%|████▍     | 72.9M/166M [00:02<00:01, 51.6MB/s]\u001b[A\n",
            " 53%|█████▎    | 87.0M/166M [00:02<00:01, 70.9MB/s]\u001b[A\n",
            " 58%|█████▊    | 95.9M/166M [00:02<00:00, 70.7MB/s]\u001b[A\n",
            " 63%|██████▎   | 104M/166M [00:02<00:00, 71.0MB/s] \u001b[A\n",
            " 68%|██████▊   | 112M/166M [00:02<00:00, 72.9MB/s]\u001b[A\n",
            " 73%|███████▎  | 120M/166M [00:02<00:00, 67.8MB/s]\u001b[A\n",
            " 77%|███████▋  | 128M/166M [00:02<00:00, 70.2MB/s]\u001b[A\n",
            " 82%|████████▏ | 136M/166M [00:02<00:00, 72.3MB/s]\u001b[A\n",
            " 87%|████████▋ | 144M/166M [00:03<00:00, 68.2MB/s]\u001b[A\n",
            " 92%|█████████▏| 152M/166M [00:03<00:00, 70.4MB/s]\u001b[A\n",
            "100%|██████████| 166M/166M [00:03<00:00, 47.6MB/s]\u001b[A\n"
          ]
        },
        {
          "data": {
            "text/plain": [
              "'resnet50face.h5'"
            ]
          },
          "execution_count": 17,
          "metadata": {},
          "output_type": "execute_result"
        }
      ],
      "source": [
        "#Скачиваем модель resnet50\n",
        "gdown.download(url = 'https://drive.google.com/uc?id=1oHJxVZCcVwp1dgcwDIZL4h97uInxOGWO', output = 'resnet50face.h5')"
      ]
    },
    {
      "cell_type": "markdown",
      "metadata": {
        "id": "AYHfdCZhmfk1"
      },
      "source": [
        "<h1>Препроцессинг</h1>"
      ]
    },
    {
      "cell_type": "code",
      "execution_count": 10,
      "metadata": {
        "id": "09Q4PR4pdOIU"
      },
      "outputs": [],
      "source": [
        "#Загрузка датафреймов\n",
        "train_df = pd.read_csv('/content/train.csv', index_col=0)\n",
        "sample_submission = pd.read_csv('/content/sample_submission.csv', index_col= 0)"
      ]
    },
    {
      "cell_type": "code",
      "execution_count": 11,
      "metadata": {
        "colab": {
          "base_uri": "https://localhost:8080/",
          "height": 424
        },
        "id": "DN3vIGhtkbHc",
        "outputId": "56d447b3-2f7f-439e-a8f8-e5c2e0db9c27"
      },
      "outputs": [
        {
          "output_type": "execute_result",
          "data": {
            "text/plain": [
              "                      image_path    emotion  class\n",
              "0            ./train/anger/0.jpg      anger      0\n",
              "1            ./train/anger/1.jpg      anger      0\n",
              "2           ./train/anger/10.jpg      anger      0\n",
              "3          ./train/anger/100.jpg      anger      0\n",
              "4         ./train/anger/1000.jpg      anger      0\n",
              "...                          ...        ...    ...\n",
              "50041  ./train/uncertain/995.jpg  uncertain      8\n",
              "50042  ./train/uncertain/996.jpg  uncertain      8\n",
              "50043  ./train/uncertain/997.jpg  uncertain      8\n",
              "50044  ./train/uncertain/998.jpg  uncertain      8\n",
              "50045  ./train/uncertain/999.jpg  uncertain      8\n",
              "\n",
              "[50046 rows x 3 columns]"
            ],
            "text/html": [
              "\n",
              "  <div id=\"df-554a4d70-7351-4889-a7f3-cb94a4bacb87\">\n",
              "    <div class=\"colab-df-container\">\n",
              "      <div>\n",
              "<style scoped>\n",
              "    .dataframe tbody tr th:only-of-type {\n",
              "        vertical-align: middle;\n",
              "    }\n",
              "\n",
              "    .dataframe tbody tr th {\n",
              "        vertical-align: top;\n",
              "    }\n",
              "\n",
              "    .dataframe thead th {\n",
              "        text-align: right;\n",
              "    }\n",
              "</style>\n",
              "<table border=\"1\" class=\"dataframe\">\n",
              "  <thead>\n",
              "    <tr style=\"text-align: right;\">\n",
              "      <th></th>\n",
              "      <th>image_path</th>\n",
              "      <th>emotion</th>\n",
              "      <th>class</th>\n",
              "    </tr>\n",
              "  </thead>\n",
              "  <tbody>\n",
              "    <tr>\n",
              "      <th>0</th>\n",
              "      <td>./train/anger/0.jpg</td>\n",
              "      <td>anger</td>\n",
              "      <td>0</td>\n",
              "    </tr>\n",
              "    <tr>\n",
              "      <th>1</th>\n",
              "      <td>./train/anger/1.jpg</td>\n",
              "      <td>anger</td>\n",
              "      <td>0</td>\n",
              "    </tr>\n",
              "    <tr>\n",
              "      <th>2</th>\n",
              "      <td>./train/anger/10.jpg</td>\n",
              "      <td>anger</td>\n",
              "      <td>0</td>\n",
              "    </tr>\n",
              "    <tr>\n",
              "      <th>3</th>\n",
              "      <td>./train/anger/100.jpg</td>\n",
              "      <td>anger</td>\n",
              "      <td>0</td>\n",
              "    </tr>\n",
              "    <tr>\n",
              "      <th>4</th>\n",
              "      <td>./train/anger/1000.jpg</td>\n",
              "      <td>anger</td>\n",
              "      <td>0</td>\n",
              "    </tr>\n",
              "    <tr>\n",
              "      <th>...</th>\n",
              "      <td>...</td>\n",
              "      <td>...</td>\n",
              "      <td>...</td>\n",
              "    </tr>\n",
              "    <tr>\n",
              "      <th>50041</th>\n",
              "      <td>./train/uncertain/995.jpg</td>\n",
              "      <td>uncertain</td>\n",
              "      <td>8</td>\n",
              "    </tr>\n",
              "    <tr>\n",
              "      <th>50042</th>\n",
              "      <td>./train/uncertain/996.jpg</td>\n",
              "      <td>uncertain</td>\n",
              "      <td>8</td>\n",
              "    </tr>\n",
              "    <tr>\n",
              "      <th>50043</th>\n",
              "      <td>./train/uncertain/997.jpg</td>\n",
              "      <td>uncertain</td>\n",
              "      <td>8</td>\n",
              "    </tr>\n",
              "    <tr>\n",
              "      <th>50044</th>\n",
              "      <td>./train/uncertain/998.jpg</td>\n",
              "      <td>uncertain</td>\n",
              "      <td>8</td>\n",
              "    </tr>\n",
              "    <tr>\n",
              "      <th>50045</th>\n",
              "      <td>./train/uncertain/999.jpg</td>\n",
              "      <td>uncertain</td>\n",
              "      <td>8</td>\n",
              "    </tr>\n",
              "  </tbody>\n",
              "</table>\n",
              "<p>50046 rows × 3 columns</p>\n",
              "</div>\n",
              "      <button class=\"colab-df-convert\" onclick=\"convertToInteractive('df-554a4d70-7351-4889-a7f3-cb94a4bacb87')\"\n",
              "              title=\"Convert this dataframe to an interactive table.\"\n",
              "              style=\"display:none;\">\n",
              "        \n",
              "  <svg xmlns=\"http://www.w3.org/2000/svg\" height=\"24px\"viewBox=\"0 0 24 24\"\n",
              "       width=\"24px\">\n",
              "    <path d=\"M0 0h24v24H0V0z\" fill=\"none\"/>\n",
              "    <path d=\"M18.56 5.44l.94 2.06.94-2.06 2.06-.94-2.06-.94-.94-2.06-.94 2.06-2.06.94zm-11 1L8.5 8.5l.94-2.06 2.06-.94-2.06-.94L8.5 2.5l-.94 2.06-2.06.94zm10 10l.94 2.06.94-2.06 2.06-.94-2.06-.94-.94-2.06-.94 2.06-2.06.94z\"/><path d=\"M17.41 7.96l-1.37-1.37c-.4-.4-.92-.59-1.43-.59-.52 0-1.04.2-1.43.59L10.3 9.45l-7.72 7.72c-.78.78-.78 2.05 0 2.83L4 21.41c.39.39.9.59 1.41.59.51 0 1.02-.2 1.41-.59l7.78-7.78 2.81-2.81c.8-.78.8-2.07 0-2.86zM5.41 20L4 18.59l7.72-7.72 1.47 1.35L5.41 20z\"/>\n",
              "  </svg>\n",
              "      </button>\n",
              "      \n",
              "  <style>\n",
              "    .colab-df-container {\n",
              "      display:flex;\n",
              "      flex-wrap:wrap;\n",
              "      gap: 12px;\n",
              "    }\n",
              "\n",
              "    .colab-df-convert {\n",
              "      background-color: #E8F0FE;\n",
              "      border: none;\n",
              "      border-radius: 50%;\n",
              "      cursor: pointer;\n",
              "      display: none;\n",
              "      fill: #1967D2;\n",
              "      height: 32px;\n",
              "      padding: 0 0 0 0;\n",
              "      width: 32px;\n",
              "    }\n",
              "\n",
              "    .colab-df-convert:hover {\n",
              "      background-color: #E2EBFA;\n",
              "      box-shadow: 0px 1px 2px rgba(60, 64, 67, 0.3), 0px 1px 3px 1px rgba(60, 64, 67, 0.15);\n",
              "      fill: #174EA6;\n",
              "    }\n",
              "\n",
              "    [theme=dark] .colab-df-convert {\n",
              "      background-color: #3B4455;\n",
              "      fill: #D2E3FC;\n",
              "    }\n",
              "\n",
              "    [theme=dark] .colab-df-convert:hover {\n",
              "      background-color: #434B5C;\n",
              "      box-shadow: 0px 1px 3px 1px rgba(0, 0, 0, 0.15);\n",
              "      filter: drop-shadow(0px 1px 2px rgba(0, 0, 0, 0.3));\n",
              "      fill: #FFFFFF;\n",
              "    }\n",
              "  </style>\n",
              "\n",
              "      <script>\n",
              "        const buttonEl =\n",
              "          document.querySelector('#df-554a4d70-7351-4889-a7f3-cb94a4bacb87 button.colab-df-convert');\n",
              "        buttonEl.style.display =\n",
              "          google.colab.kernel.accessAllowed ? 'block' : 'none';\n",
              "\n",
              "        async function convertToInteractive(key) {\n",
              "          const element = document.querySelector('#df-554a4d70-7351-4889-a7f3-cb94a4bacb87');\n",
              "          const dataTable =\n",
              "            await google.colab.kernel.invokeFunction('convertToInteractive',\n",
              "                                                     [key], {});\n",
              "          if (!dataTable) return;\n",
              "\n",
              "          const docLinkHtml = 'Like what you see? Visit the ' +\n",
              "            '<a target=\"_blank\" href=https://colab.research.google.com/notebooks/data_table.ipynb>data table notebook</a>'\n",
              "            + ' to learn more about interactive tables.';\n",
              "          element.innerHTML = '';\n",
              "          dataTable['output_type'] = 'display_data';\n",
              "          await google.colab.output.renderOutput(dataTable, element);\n",
              "          const docLink = document.createElement('div');\n",
              "          docLink.innerHTML = docLinkHtml;\n",
              "          element.appendChild(docLink);\n",
              "        }\n",
              "      </script>\n",
              "    </div>\n",
              "  </div>\n",
              "  "
            ]
          },
          "metadata": {},
          "execution_count": 11
        }
      ],
      "source": [
        "#Кодирование классов\n",
        "le = preprocessing.LabelEncoder()\n",
        "le.fit(train_df['emotion'].unique())\n",
        "train_df['class'] = le.transform(train_df['emotion'])\n",
        "train_df"
      ]
    },
    {
      "cell_type": "code",
      "execution_count": 12,
      "metadata": {
        "colab": {
          "base_uri": "https://localhost:8080/"
        },
        "id": "H5RY4kY6eaIX",
        "outputId": "2bc23c8d-bdc2-47db-a6bf-38e2762de728"
      },
      "outputs": [
        {
          "output_type": "execute_result",
          "data": {
            "text/plain": [
              "array(['anger', 'contempt', 'disgust', 'fear', 'happy', 'neutral', 'sad',\n",
              "       'surprise', 'uncertain'], dtype=object)"
            ]
          },
          "metadata": {},
          "execution_count": 12
        }
      ],
      "source": [
        "#Cписок классов\n",
        "le.classes_"
      ]
    },
    {
      "cell_type": "code",
      "execution_count": 14,
      "metadata": {
        "id": "8Hq8jS7Nex8J"
      },
      "outputs": [],
      "source": [
        "#Разархивирование файлов  \t\n",
        "train_zip = zipfile.ZipFile('/content/train.zip')\n",
        "train_zip.extractall('/content')\n",
        "train_zip.close()\n",
        "test_zip = zipfile.ZipFile('/content/test_kaggle.zip')\n",
        "test_zip.extractall('/content')\n",
        "test_zip.close()"
      ]
    },
    {
      "cell_type": "code",
      "execution_count": 15,
      "metadata": {
        "id": "Hk9JW7XOr9-L"
      },
      "outputs": [],
      "source": [
        "#Функция вывода изображеняи и декодинга номера класса\n",
        "def decode_labels(class_nm):\n",
        "    return le.classes_[class_nm]\n",
        "def show_face(image, class_nm):\n",
        "    plt.imshow(image)\n",
        "    emotion = decode_labels(class_nm)\n",
        "    plt.title(f\"Emotion: {emotion}\")"
      ]
    },
    {
      "cell_type": "code",
      "execution_count": 16,
      "metadata": {
        "colab": {
          "base_uri": "https://localhost:8080/",
          "height": 281
        },
        "id": "OHDNEoi_rf5D",
        "outputId": "19ec8763-988a-4bd6-cc59-bff2049a8da9"
      },
      "outputs": [
        {
          "output_type": "display_data",
          "data": {
            "text/plain": [
              "<Figure size 432x288 with 1 Axes>"
            ],
            "image/png": "[encoded data removed]"
          },
          "metadata": {
            "needs_background": "light"
          }
        }
      ],
      "source": [
        "#Тестовый выовод\n",
        "img = Image.open(train_df['image_path'][100:101].values[0])\n",
        "show_face(image=img, class_nm = train_df['class'][100:101].values[0])"
      ]
    },
    {
      "cell_type": "code",
      "execution_count": 22,
      "metadata": {
        "colab": {
          "base_uri": "https://localhost:8080/",
          "height": 36
        },
        "id": "QrAi86TmFqE4",
        "outputId": "8f12e6c9-91d4-491a-d50f-2e64e171df01"
      },
      "outputs": [
        {
          "output_type": "execute_result",
          "data": {
            "text/plain": [
              "'/usr/local/lib/python3.7/dist-packages/keras_vggface/models.py'"
            ],
            "application/vnd.google.colaboratory.intrinsic+json": {
              "type": "string"
            }
          },
          "metadata": {},
          "execution_count": 22
        }
      ],
      "source": [
        "#Заменяем файл\n",
        "os.remove('/usr/local/lib/python3.7/dist-packages/keras_vggface/models.py')\n",
        "shutil.copyfile('/content/models.py', r'/usr/local/lib/python3.7/dist-packages/keras_vggface/models.py')"
      ]
    },
    {
      "cell_type": "code",
      "execution_count": 23,
      "metadata": {
        "id": "qbyvlIu-vzDm"
      },
      "outputs": [],
      "source": [
        "#Предобработка\n",
        "from keras_vggface import utils\n",
        "from tensorflow.keras.preprocessing import image\n",
        "from tensorflow.keras.preprocessing.image import ImageDataGenerator\n",
        "\n",
        "def preprocess_input_facenet(image_):\n",
        "    \"\"\"\n",
        "    image_ -- тензор размера (1, H, W, 3)\n",
        "    return: картинка, с примененным preprocess_input(..., version=2) из keras_vggface\n",
        "    \"\"\"\n",
        "    preprocessed = utils.preprocess_input(img, version=2) \n",
        "    return preprocessed\n",
        "\n"
      ]
    },
    {
      "cell_type": "markdown",
      "metadata": {
        "id": "bt-dDeNqYiV2"
      },
      "source": [
        "#Создание генератора c аугментацией"
      ]
    },
    {
      "cell_type": "code",
      "execution_count": 24,
      "metadata": {
        "colab": {
          "base_uri": "https://localhost:8080/"
        },
        "id": "1hBMOLv7zYDb",
        "outputId": "b152d705-eff2-4856-f772-a30388808134"
      },
      "outputs": [
        {
          "output_type": "stream",
          "name": "stdout",
          "text": [
            "Found 50046 validated image filenames belonging to 9 classes.\n"
          ]
        }
      ],
      "source": [
        "BATCH_SIZE = 128\n",
        "IMAGE_SIZE = 224\n",
        "#Аугментация\n",
        "image_gen = ImageDataGenerator(preprocess_input_facenet, \n",
        "                               #brightness_range = (0,2), #Добавление яркости\n",
        "                               #featurewise_std_normalization=True,\n",
        "                               rotation_range= 25, #Повороты\n",
        "                               #width_shift_range=0.1,\n",
        "                               #height_shift_range=0.1,\n",
        "                               horizontal_flip=True,\n",
        "                               validation_split=0.2,\n",
        "                               shear_range = 2)  \n",
        "\n",
        "train_generator =  image_gen.flow_from_dataframe(dataframe= train_df, \n",
        "                                                 x_col= \"image_path\", \n",
        "                                                 y_col= 'emotion' ,\n",
        "                                                 target_size=(IMAGE_SIZE, IMAGE_SIZE), \n",
        "                                                 batch_size=BATCH_SIZE, \n",
        "                                                 shuffle=True,\n",
        "                                                 color_mode='rgb', \n",
        "                                                 class_mode=\"sparse\",\n",
        "                                                 save_format=\"png\")\n",
        "# image_gen_test = ImageDataGenerator(preprocess_input_facenet)  \n",
        "# test_generator = image_gen_test.flow_from_dataframe(dataframe= test_df, \n",
        "#                                                  x_col= \"image_path\", \n",
        "#                                                  y_col= 'emotion' ,\n",
        "#                                                  target_size=(IMAGE_SIZE, IMAGE_SIZE), \n",
        "#                                                  batch_size=BATCH_SIZE, \n",
        "#                                                  shuffle=True,\n",
        "#                                                  color_mode='rgb', \n",
        "#                                                  class_mode=\"sparse\",\n",
        "#                                                  save_format=\"png\")\n"
      ]
    },
    {
      "cell_type": "code",
      "execution_count": 25,
      "metadata": {
        "colab": {
          "base_uri": "https://localhost:8080/"
        },
        "id": "joHU31idQoLa",
        "outputId": "6b1b5f7e-3e3c-4b49-8c21-2928111591e7"
      },
      "outputs": [
        {
          "output_type": "stream",
          "name": "stderr",
          "text": [
            "/usr/local/lib/python3.7/dist-packages/keras_preprocessing/image/image_data_generator.py:720: UserWarning: This ImageDataGenerator specifies `featurewise_center`, but it hasn't been fit on any training data. Fit it first by calling `.fit(numpy_data)`.\n",
            "  warnings.warn('This ImageDataGenerator specifies '\n"
          ]
        },
        {
          "output_type": "stream",
          "name": "stdout",
          "text": [
            "(128,)\n",
            "Simple tests passed\n"
          ]
        }
      ],
      "source": [
        "#Тесты\n",
        "sample_images, sample_labels = next(train_generator)\n",
        "assert sample_images.shape == (BATCH_SIZE, IMAGE_SIZE, IMAGE_SIZE, 3), \"Неправильный размер батча\"\n",
        "assert sample_labels.shape == (BATCH_SIZE, ), \"Неправильный размер меток класса\"\n",
        "print(sample_labels.shape)\n",
        "print(\"Simple tests passed\")"
      ]
    },
    {
      "cell_type": "code",
      "execution_count": 26,
      "metadata": {
        "colab": {
          "base_uri": "https://localhost:8080/",
          "height": 287
        },
        "id": "Hp1sot3Y15zl",
        "outputId": "ab06863a-5a9a-4728-cae5-53b163ca650b"
      },
      "outputs": [
        {
          "output_type": "execute_result",
          "data": {
            "text/plain": [
              "<matplotlib.image.AxesImage at 0x7fa35f07dfd0>"
            ]
          },
          "metadata": {},
          "execution_count": 26
        },
        {
          "output_type": "display_data",
          "data": {
            "text/plain": [
              "<Figure size 432x288 with 1 Axes>"
            ],
            "image/png": "[encoded data removed]"
          },
          "metadata": {
            "needs_background": "light"
          }
        }
      ],
      "source": [
        "#Депроцессинг изображения\n",
        "def deprocess_image(vggface_image):\n",
        "    \"\"\"\n",
        "    return: корректно отображаеая картинка типа np.uint8(!!). \n",
        "    \"\"\"\n",
        "    image = np.copy(vggface_image)\n",
        "    image[..., 2] += 131.0912\n",
        "    image[..., 1] += 103.8827\n",
        "    image[..., 0] += 91.4953\n",
        "    image = image[..., ::-1].astype(np.uint8)\n",
        "    return image\n",
        "\n",
        "# теперь картинка должна отображаться корректно\n",
        "plt.imshow(deprocess_image(utils.preprocess_input(sample_images[1], version=2)))"
      ]
    },
    {
      "cell_type": "markdown",
      "metadata": {
        "id": "uyTnWXNn3TQG"
      },
      "source": [
        "<h2>Finetuning </h2>"
      ]
    },
    {
      "cell_type": "code",
      "execution_count": null,
      "metadata": {
        "colab": {
          "base_uri": "https://localhost:8080/",
          "height": 36
        },
        "id": "aQD2OFN-Y-mG",
        "outputId": "7c3972d0-d1c3-431b-c126-0ab554eb585a"
      },
      "outputs": [
        {
          "data": {
            "application/vnd.google.colaboratory.intrinsic+json": {
              "type": "string"
            },
            "text/plain": [
              "'/content/resnet50face.h5'"
            ]
          },
          "execution_count": 21,
          "metadata": {},
          "output_type": "execute_result"
        }
      ],
      "source": [
        "# #Копирую модель resnet50\n",
        "# shutil.copyfile(r'/content/drive/MyDrive/diplom_2/resnet50/resnet50face.h5', \n",
        "#                 r'/content/resnet50face.h5')"
      ]
    },
    {
      "cell_type": "code",
      "execution_count": null,
      "metadata": {
        "colab": {
          "base_uri": "https://localhost:8080/"
        },
        "id": "9krlG4JM3jil",
        "outputId": "cfdda4e7-1735-47dc-bf32-80ae73e8d96a"
      },
      "outputs": [
        {
          "name": "stdout",
          "output_type": "stream",
          "text": [
            "WARNING:tensorflow:No training configuration found in the save file, so the model was *not* compiled. Compile it manually.\n"
          ]
        }
      ],
      "source": [
        "#Загружаем модель\n",
        "vggface_model = load_model(/content/resnet50face.h5)"
      ]
    },
    {
      "cell_type": "code",
      "execution_count": null,
      "metadata": {
        "colab": {
          "base_uri": "https://localhost:8080/"
        },
        "id": "4qw44DAy4Cas",
        "outputId": "e2c9dd55-8153-497b-9d8b-95a7cc0b12fb"
      },
      "outputs": [
        {
          "name": "stdout",
          "output_type": "stream",
          "text": [
            "Model: \"model\"\n",
            "__________________________________________________________________________________________________\n",
            " Layer (type)                   Output Shape         Param #     Connected to                     \n",
            "==================================================================================================\n",
            " input_1 (InputLayer)           [(None, 224, 224, 3  0           []                               \n",
            "                                )]                                                                \n",
            "                                                                                                  \n",
            " conv1/7x7_s2 (Conv2D)          (None, 112, 112, 64  9408        ['input_1[0][0]']                \n",
            "                                )                                                                 \n",
            "                                                                                                  \n",
            " conv1/7x7_s2/bn (BatchNormaliz  (None, 112, 112, 64  256        ['conv1/7x7_s2[0][0]']           \n",
            " ation)                         )                                                                 \n",
            "                                                                                                  \n",
            " activation_1 (Activation)      (None, 112, 112, 64  0           ['conv1/7x7_s2/bn[0][0]']        \n",
            "                                )                                                                 \n",
            "                                                                                                  \n",
            " max_pooling2d_1 (MaxPooling2D)  (None, 55, 55, 64)  0           ['activation_1[0][0]']           \n",
            "                                                                                                  \n",
            " conv2_1_1x1_reduce (Conv2D)    (None, 55, 55, 64)   4096        ['max_pooling2d_1[0][0]']        \n",
            "                                                                                                  \n",
            " conv2_1_1x1_reduce/bn (BatchNo  (None, 55, 55, 64)  256         ['conv2_1_1x1_reduce[0][0]']     \n",
            " rmalization)                                                                                     \n",
            "                                                                                                  \n",
            " activation_2 (Activation)      (None, 55, 55, 64)   0           ['conv2_1_1x1_reduce/bn[0][0]']  \n",
            "                                                                                                  \n",
            " conv2_1_3x3 (Conv2D)           (None, 55, 55, 64)   36864       ['activation_2[0][0]']           \n",
            "                                                                                                  \n",
            " conv2_1_3x3/bn (BatchNormaliza  (None, 55, 55, 64)  256         ['conv2_1_3x3[0][0]']            \n",
            " tion)                                                                                            \n",
            "                                                                                                  \n",
            " activation_3 (Activation)      (None, 55, 55, 64)   0           ['conv2_1_3x3/bn[0][0]']         \n",
            "                                                                                                  \n",
            " conv2_1_1x1_increase (Conv2D)  (None, 55, 55, 256)  16384       ['activation_3[0][0]']           \n",
            "                                                                                                  \n",
            " conv2_1_1x1_proj (Conv2D)      (None, 55, 55, 256)  16384       ['max_pooling2d_1[0][0]']        \n",
            "                                                                                                  \n",
            " conv2_1_1x1_increase/bn (Batch  (None, 55, 55, 256)  1024       ['conv2_1_1x1_increase[0][0]']   \n",
            " Normalization)                                                                                   \n",
            "                                                                                                  \n",
            " conv2_1_1x1_proj/bn (BatchNorm  (None, 55, 55, 256)  1024       ['conv2_1_1x1_proj[0][0]']       \n",
            " alization)                                                                                       \n",
            "                                                                                                  \n",
            " add_1 (Add)                    (None, 55, 55, 256)  0           ['conv2_1_1x1_increase/bn[0][0]',\n",
            "                                                                  'conv2_1_1x1_proj/bn[0][0]']    \n",
            "                                                                                                  \n",
            " activation_4 (Activation)      (None, 55, 55, 256)  0           ['add_1[0][0]']                  \n",
            "                                                                                                  \n",
            " conv2_2_1x1_reduce (Conv2D)    (None, 55, 55, 64)   16384       ['activation_4[0][0]']           \n",
            "                                                                                                  \n",
            " conv2_2_1x1_reduce/bn (BatchNo  (None, 55, 55, 64)  256         ['conv2_2_1x1_reduce[0][0]']     \n",
            " rmalization)                                                                                     \n",
            "                                                                                                  \n",
            " activation_5 (Activation)      (None, 55, 55, 64)   0           ['conv2_2_1x1_reduce/bn[0][0]']  \n",
            "                                                                                                  \n",
            " conv2_2_3x3 (Conv2D)           (None, 55, 55, 64)   36864       ['activation_5[0][0]']           \n",
            "                                                                                                  \n",
            " conv2_2_3x3/bn (BatchNormaliza  (None, 55, 55, 64)  256         ['conv2_2_3x3[0][0]']            \n",
            " tion)                                                                                            \n",
            "                                                                                                  \n",
            " activation_6 (Activation)      (None, 55, 55, 64)   0           ['conv2_2_3x3/bn[0][0]']         \n",
            "                                                                                                  \n",
            " conv2_2_1x1_increase (Conv2D)  (None, 55, 55, 256)  16384       ['activation_6[0][0]']           \n",
            "                                                                                                  \n",
            " conv2_2_1x1_increase/bn (Batch  (None, 55, 55, 256)  1024       ['conv2_2_1x1_increase[0][0]']   \n",
            " Normalization)                                                                                   \n",
            "                                                                                                  \n",
            " add_2 (Add)                    (None, 55, 55, 256)  0           ['conv2_2_1x1_increase/bn[0][0]',\n",
            "                                                                  'activation_4[0][0]']           \n",
            "                                                                                                  \n",
            " activation_7 (Activation)      (None, 55, 55, 256)  0           ['add_2[0][0]']                  \n",
            "                                                                                                  \n",
            " conv2_3_1x1_reduce (Conv2D)    (None, 55, 55, 64)   16384       ['activation_7[0][0]']           \n",
            "                                                                                                  \n",
            " conv2_3_1x1_reduce/bn (BatchNo  (None, 55, 55, 64)  256         ['conv2_3_1x1_reduce[0][0]']     \n",
            " rmalization)                                                                                     \n",
            "                                                                                                  \n",
            " activation_8 (Activation)      (None, 55, 55, 64)   0           ['conv2_3_1x1_reduce/bn[0][0]']  \n",
            "                                                                                                  \n",
            " conv2_3_3x3 (Conv2D)           (None, 55, 55, 64)   36864       ['activation_8[0][0]']           \n",
            "                                                                                                  \n",
            " conv2_3_3x3/bn (BatchNormaliza  (None, 55, 55, 64)  256         ['conv2_3_3x3[0][0]']            \n",
            " tion)                                                                                            \n",
            "                                                                                                  \n",
            " activation_9 (Activation)      (None, 55, 55, 64)   0           ['conv2_3_3x3/bn[0][0]']         \n",
            "                                                                                                  \n",
            " conv2_3_1x1_increase (Conv2D)  (None, 55, 55, 256)  16384       ['activation_9[0][0]']           \n",
            "                                                                                                  \n",
            " conv2_3_1x1_increase/bn (Batch  (None, 55, 55, 256)  1024       ['conv2_3_1x1_increase[0][0]']   \n",
            " Normalization)                                                                                   \n",
            "                                                                                                  \n",
            " add_3 (Add)                    (None, 55, 55, 256)  0           ['conv2_3_1x1_increase/bn[0][0]',\n",
            "                                                                  'activation_7[0][0]']           \n",
            "                                                                                                  \n",
            " activation_10 (Activation)     (None, 55, 55, 256)  0           ['add_3[0][0]']                  \n",
            "                                                                                                  \n",
            " conv3_1_1x1_reduce (Conv2D)    (None, 28, 28, 128)  32768       ['activation_10[0][0]']          \n",
            "                                                                                                  \n",
            " conv3_1_1x1_reduce/bn (BatchNo  (None, 28, 28, 128)  512        ['conv3_1_1x1_reduce[0][0]']     \n",
            " rmalization)                                                                                     \n",
            "                                                                                                  \n",
            " activation_11 (Activation)     (None, 28, 28, 128)  0           ['conv3_1_1x1_reduce/bn[0][0]']  \n",
            "                                                                                                  \n",
            " conv3_1_3x3 (Conv2D)           (None, 28, 28, 128)  147456      ['activation_11[0][0]']          \n",
            "                                                                                                  \n",
            " conv3_1_3x3/bn (BatchNormaliza  (None, 28, 28, 128)  512        ['conv3_1_3x3[0][0]']            \n",
            " tion)                                                                                            \n",
            "                                                                                                  \n",
            " activation_12 (Activation)     (None, 28, 28, 128)  0           ['conv3_1_3x3/bn[0][0]']         \n",
            "                                                                                                  \n",
            " conv3_1_1x1_increase (Conv2D)  (None, 28, 28, 512)  65536       ['activation_12[0][0]']          \n",
            "                                                                                                  \n",
            " conv3_1_1x1_proj (Conv2D)      (None, 28, 28, 512)  131072      ['activation_10[0][0]']          \n",
            "                                                                                                  \n",
            " conv3_1_1x1_increase/bn (Batch  (None, 28, 28, 512)  2048       ['conv3_1_1x1_increase[0][0]']   \n",
            " Normalization)                                                                                   \n",
            "                                                                                                  \n",
            " conv3_1_1x1_proj/bn (BatchNorm  (None, 28, 28, 512)  2048       ['conv3_1_1x1_proj[0][0]']       \n",
            " alization)                                                                                       \n",
            "                                                                                                  \n",
            " add_4 (Add)                    (None, 28, 28, 512)  0           ['conv3_1_1x1_increase/bn[0][0]',\n",
            "                                                                  'conv3_1_1x1_proj/bn[0][0]']    \n",
            "                                                                                                  \n",
            " activation_13 (Activation)     (None, 28, 28, 512)  0           ['add_4[0][0]']                  \n",
            "                                                                                                  \n",
            " conv3_2_1x1_reduce (Conv2D)    (None, 28, 28, 128)  65536       ['activation_13[0][0]']          \n",
            "                                                                                                  \n",
            " conv3_2_1x1_reduce/bn (BatchNo  (None, 28, 28, 128)  512        ['conv3_2_1x1_reduce[0][0]']     \n",
            " rmalization)                                                                                     \n",
            "                                                                                                  \n",
            " activation_14 (Activation)     (None, 28, 28, 128)  0           ['conv3_2_1x1_reduce/bn[0][0]']  \n",
            "                                                                                                  \n",
            " conv3_2_3x3 (Conv2D)           (None, 28, 28, 128)  147456      ['activation_14[0][0]']          \n",
            "                                                                                                  \n",
            " conv3_2_3x3/bn (BatchNormaliza  (None, 28, 28, 128)  512        ['conv3_2_3x3[0][0]']            \n",
            " tion)                                                                                            \n",
            "                                                                                                  \n",
            " activation_15 (Activation)     (None, 28, 28, 128)  0           ['conv3_2_3x3/bn[0][0]']         \n",
            "                                                                                                  \n",
            " conv3_2_1x1_increase (Conv2D)  (None, 28, 28, 512)  65536       ['activation_15[0][0]']          \n",
            "                                                                                                  \n",
            " conv3_2_1x1_increase/bn (Batch  (None, 28, 28, 512)  2048       ['conv3_2_1x1_increase[0][0]']   \n",
            " Normalization)                                                                                   \n",
            "                                                                                                  \n",
            " add_5 (Add)                    (None, 28, 28, 512)  0           ['conv3_2_1x1_increase/bn[0][0]',\n",
            "                                                                  'activation_13[0][0]']          \n",
            "                                                                                                  \n",
            " activation_16 (Activation)     (None, 28, 28, 512)  0           ['add_5[0][0]']                  \n",
            "                                                                                                  \n",
            " conv3_3_1x1_reduce (Conv2D)    (None, 28, 28, 128)  65536       ['activation_16[0][0]']          \n",
            "                                                                                                  \n",
            " conv3_3_1x1_reduce/bn (BatchNo  (None, 28, 28, 128)  512        ['conv3_3_1x1_reduce[0][0]']     \n",
            " rmalization)                                                                                     \n",
            "                                                                                                  \n",
            " activation_17 (Activation)     (None, 28, 28, 128)  0           ['conv3_3_1x1_reduce/bn[0][0]']  \n",
            "                                                                                                  \n",
            " conv3_3_3x3 (Conv2D)           (None, 28, 28, 128)  147456      ['activation_17[0][0]']          \n",
            "                                                                                                  \n",
            " conv3_3_3x3/bn (BatchNormaliza  (None, 28, 28, 128)  512        ['conv3_3_3x3[0][0]']            \n",
            " tion)                                                                                            \n",
            "                                                                                                  \n",
            " activation_18 (Activation)     (None, 28, 28, 128)  0           ['conv3_3_3x3/bn[0][0]']         \n",
            "                                                                                                  \n",
            " conv3_3_1x1_increase (Conv2D)  (None, 28, 28, 512)  65536       ['activation_18[0][0]']          \n",
            "                                                                                                  \n",
            " conv3_3_1x1_increase/bn (Batch  (None, 28, 28, 512)  2048       ['conv3_3_1x1_increase[0][0]']   \n",
            " Normalization)                                                                                   \n",
            "                                                                                                  \n",
            " add_6 (Add)                    (None, 28, 28, 512)  0           ['conv3_3_1x1_increase/bn[0][0]',\n",
            "                                                                  'activation_16[0][0]']          \n",
            "                                                                                                  \n",
            " activation_19 (Activation)     (None, 28, 28, 512)  0           ['add_6[0][0]']                  \n",
            "                                                                                                  \n",
            " conv3_4_1x1_reduce (Conv2D)    (None, 28, 28, 128)  65536       ['activation_19[0][0]']          \n",
            "                                                                                                  \n",
            " conv3_4_1x1_reduce/bn (BatchNo  (None, 28, 28, 128)  512        ['conv3_4_1x1_reduce[0][0]']     \n",
            " rmalization)                                                                                     \n",
            "                                                                                                  \n",
            " activation_20 (Activation)     (None, 28, 28, 128)  0           ['conv3_4_1x1_reduce/bn[0][0]']  \n",
            "                                                                                                  \n",
            " conv3_4_3x3 (Conv2D)           (None, 28, 28, 128)  147456      ['activation_20[0][0]']          \n",
            "                                                                                                  \n",
            " conv3_4_3x3/bn (BatchNormaliza  (None, 28, 28, 128)  512        ['conv3_4_3x3[0][0]']            \n",
            " tion)                                                                                            \n",
            "                                                                                                  \n",
            " activation_21 (Activation)     (None, 28, 28, 128)  0           ['conv3_4_3x3/bn[0][0]']         \n",
            "                                                                                                  \n",
            " conv3_4_1x1_increase (Conv2D)  (None, 28, 28, 512)  65536       ['activation_21[0][0]']          \n",
            "                                                                                                  \n",
            " conv3_4_1x1_increase/bn (Batch  (None, 28, 28, 512)  2048       ['conv3_4_1x1_increase[0][0]']   \n",
            " Normalization)                                                                                   \n",
            "                                                                                                  \n",
            " add_7 (Add)                    (None, 28, 28, 512)  0           ['conv3_4_1x1_increase/bn[0][0]',\n",
            "                                                                  'activation_19[0][0]']          \n",
            "                                                                                                  \n",
            " activation_22 (Activation)     (None, 28, 28, 512)  0           ['add_7[0][0]']                  \n",
            "                                                                                                  \n",
            " conv4_1_1x1_reduce (Conv2D)    (None, 14, 14, 256)  131072      ['activation_22[0][0]']          \n",
            "                                                                                                  \n",
            " conv4_1_1x1_reduce/bn (BatchNo  (None, 14, 14, 256)  1024       ['conv4_1_1x1_reduce[0][0]']     \n",
            " rmalization)                                                                                     \n",
            "                                                                                                  \n",
            " activation_23 (Activation)     (None, 14, 14, 256)  0           ['conv4_1_1x1_reduce/bn[0][0]']  \n",
            "                                                                                                  \n",
            " conv4_1_3x3 (Conv2D)           (None, 14, 14, 256)  589824      ['activation_23[0][0]']          \n",
            "                                                                                                  \n",
            " conv4_1_3x3/bn (BatchNormaliza  (None, 14, 14, 256)  1024       ['conv4_1_3x3[0][0]']            \n",
            " tion)                                                                                            \n",
            "                                                                                                  \n",
            " activation_24 (Activation)     (None, 14, 14, 256)  0           ['conv4_1_3x3/bn[0][0]']         \n",
            "                                                                                                  \n",
            " conv4_1_1x1_increase (Conv2D)  (None, 14, 14, 1024  262144      ['activation_24[0][0]']          \n",
            "                                )                                                                 \n",
            "                                                                                                  \n",
            " conv4_1_1x1_proj (Conv2D)      (None, 14, 14, 1024  524288      ['activation_22[0][0]']          \n",
            "                                )                                                                 \n",
            "                                                                                                  \n",
            " conv4_1_1x1_increase/bn (Batch  (None, 14, 14, 1024  4096       ['conv4_1_1x1_increase[0][0]']   \n",
            " Normalization)                 )                                                                 \n",
            "                                                                                                  \n",
            " conv4_1_1x1_proj/bn (BatchNorm  (None, 14, 14, 1024  4096       ['conv4_1_1x1_proj[0][0]']       \n",
            " alization)                     )                                                                 \n",
            "                                                                                                  \n",
            " add_8 (Add)                    (None, 14, 14, 1024  0           ['conv4_1_1x1_increase/bn[0][0]',\n",
            "                                )                                 'conv4_1_1x1_proj/bn[0][0]']    \n",
            "                                                                                                  \n",
            " activation_25 (Activation)     (None, 14, 14, 1024  0           ['add_8[0][0]']                  \n",
            "                                )                                                                 \n",
            "                                                                                                  \n",
            " conv4_2_1x1_reduce (Conv2D)    (None, 14, 14, 256)  262144      ['activation_25[0][0]']          \n",
            "                                                                                                  \n",
            " conv4_2_1x1_reduce/bn (BatchNo  (None, 14, 14, 256)  1024       ['conv4_2_1x1_reduce[0][0]']     \n",
            " rmalization)                                                                                     \n",
            "                                                                                                  \n",
            " activation_26 (Activation)     (None, 14, 14, 256)  0           ['conv4_2_1x1_reduce/bn[0][0]']  \n",
            "                                                                                                  \n",
            " conv4_2_3x3 (Conv2D)           (None, 14, 14, 256)  589824      ['activation_26[0][0]']          \n",
            "                                                                                                  \n",
            " conv4_2_3x3/bn (BatchNormaliza  (None, 14, 14, 256)  1024       ['conv4_2_3x3[0][0]']            \n",
            " tion)                                                                                            \n",
            "                                                                                                  \n",
            " activation_27 (Activation)     (None, 14, 14, 256)  0           ['conv4_2_3x3/bn[0][0]']         \n",
            "                                                                                                  \n",
            " conv4_2_1x1_increase (Conv2D)  (None, 14, 14, 1024  262144      ['activation_27[0][0]']          \n",
            "                                )                                                                 \n",
            "                                                                                                  \n",
            " conv4_2_1x1_increase/bn (Batch  (None, 14, 14, 1024  4096       ['conv4_2_1x1_increase[0][0]']   \n",
            " Normalization)                 )                                                                 \n",
            "                                                                                                  \n",
            " add_9 (Add)                    (None, 14, 14, 1024  0           ['conv4_2_1x1_increase/bn[0][0]',\n",
            "                                )                                 'activation_25[0][0]']          \n",
            "                                                                                                  \n",
            " activation_28 (Activation)     (None, 14, 14, 1024  0           ['add_9[0][0]']                  \n",
            "                                )                                                                 \n",
            "                                                                                                  \n",
            " conv4_3_1x1_reduce (Conv2D)    (None, 14, 14, 256)  262144      ['activation_28[0][0]']          \n",
            "                                                                                                  \n",
            " conv4_3_1x1_reduce/bn (BatchNo  (None, 14, 14, 256)  1024       ['conv4_3_1x1_reduce[0][0]']     \n",
            " rmalization)                                                                                     \n",
            "                                                                                                  \n",
            " activation_29 (Activation)     (None, 14, 14, 256)  0           ['conv4_3_1x1_reduce/bn[0][0]']  \n",
            "                                                                                                  \n",
            " conv4_3_3x3 (Conv2D)           (None, 14, 14, 256)  589824      ['activation_29[0][0]']          \n",
            "                                                                                                  \n",
            " conv4_3_3x3/bn (BatchNormaliza  (None, 14, 14, 256)  1024       ['conv4_3_3x3[0][0]']            \n",
            " tion)                                                                                            \n",
            "                                                                                                  \n",
            " activation_30 (Activation)     (None, 14, 14, 256)  0           ['conv4_3_3x3/bn[0][0]']         \n",
            "                                                                                                  \n",
            " conv4_3_1x1_increase (Conv2D)  (None, 14, 14, 1024  262144      ['activation_30[0][0]']          \n",
            "                                )                                                                 \n",
            "                                                                                                  \n",
            " conv4_3_1x1_increase/bn (Batch  (None, 14, 14, 1024  4096       ['conv4_3_1x1_increase[0][0]']   \n",
            " Normalization)                 )                                                                 \n",
            "                                                                                                  \n",
            " add_10 (Add)                   (None, 14, 14, 1024  0           ['conv4_3_1x1_increase/bn[0][0]',\n",
            "                                )                                 'activation_28[0][0]']          \n",
            "                                                                                                  \n",
            " activation_31 (Activation)     (None, 14, 14, 1024  0           ['add_10[0][0]']                 \n",
            "                                )                                                                 \n",
            "                                                                                                  \n",
            " conv4_4_1x1_reduce (Conv2D)    (None, 14, 14, 256)  262144      ['activation_31[0][0]']          \n",
            "                                                                                                  \n",
            " conv4_4_1x1_reduce/bn (BatchNo  (None, 14, 14, 256)  1024       ['conv4_4_1x1_reduce[0][0]']     \n",
            " rmalization)                                                                                     \n",
            "                                                                                                  \n",
            " activation_32 (Activation)     (None, 14, 14, 256)  0           ['conv4_4_1x1_reduce/bn[0][0]']  \n",
            "                                                                                                  \n",
            " conv4_4_3x3 (Conv2D)           (None, 14, 14, 256)  589824      ['activation_32[0][0]']          \n",
            "                                                                                                  \n",
            " conv4_4_3x3/bn (BatchNormaliza  (None, 14, 14, 256)  1024       ['conv4_4_3x3[0][0]']            \n",
            " tion)                                                                                            \n",
            "                                                                                                  \n",
            " activation_33 (Activation)     (None, 14, 14, 256)  0           ['conv4_4_3x3/bn[0][0]']         \n",
            "                                                                                                  \n",
            " conv4_4_1x1_increase (Conv2D)  (None, 14, 14, 1024  262144      ['activation_33[0][0]']          \n",
            "                                )                                                                 \n",
            "                                                                                                  \n",
            " conv4_4_1x1_increase/bn (Batch  (None, 14, 14, 1024  4096       ['conv4_4_1x1_increase[0][0]']   \n",
            " Normalization)                 )                                                                 \n",
            "                                                                                                  \n",
            " add_11 (Add)                   (None, 14, 14, 1024  0           ['conv4_4_1x1_increase/bn[0][0]',\n",
            "                                )                                 'activation_31[0][0]']          \n",
            "                                                                                                  \n",
            " activation_34 (Activation)     (None, 14, 14, 1024  0           ['add_11[0][0]']                 \n",
            "                                )                                                                 \n",
            "                                                                                                  \n",
            " conv4_5_1x1_reduce (Conv2D)    (None, 14, 14, 256)  262144      ['activation_34[0][0]']          \n",
            "                                                                                                  \n",
            " conv4_5_1x1_reduce/bn (BatchNo  (None, 14, 14, 256)  1024       ['conv4_5_1x1_reduce[0][0]']     \n",
            " rmalization)                                                                                     \n",
            "                                                                                                  \n",
            " activation_35 (Activation)     (None, 14, 14, 256)  0           ['conv4_5_1x1_reduce/bn[0][0]']  \n",
            "                                                                                                  \n",
            " conv4_5_3x3 (Conv2D)           (None, 14, 14, 256)  589824      ['activation_35[0][0]']          \n",
            "                                                                                                  \n",
            " conv4_5_3x3/bn (BatchNormaliza  (None, 14, 14, 256)  1024       ['conv4_5_3x3[0][0]']            \n",
            " tion)                                                                                            \n",
            "                                                                                                  \n",
            " activation_36 (Activation)     (None, 14, 14, 256)  0           ['conv4_5_3x3/bn[0][0]']         \n",
            "                                                                                                  \n",
            " conv4_5_1x1_increase (Conv2D)  (None, 14, 14, 1024  262144      ['activation_36[0][0]']          \n",
            "                                )                                                                 \n",
            "                                                                                                  \n",
            " conv4_5_1x1_increase/bn (Batch  (None, 14, 14, 1024  4096       ['conv4_5_1x1_increase[0][0]']   \n",
            " Normalization)                 )                                                                 \n",
            "                                                                                                  \n",
            " add_12 (Add)                   (None, 14, 14, 1024  0           ['conv4_5_1x1_increase/bn[0][0]',\n",
            "                                )                                 'activation_34[0][0]']          \n",
            "                                                                                                  \n",
            " activation_37 (Activation)     (None, 14, 14, 1024  0           ['add_12[0][0]']                 \n",
            "                                )                                                                 \n",
            "                                                                                                  \n",
            " conv4_6_1x1_reduce (Conv2D)    (None, 14, 14, 256)  262144      ['activation_37[0][0]']          \n",
            "                                                                                                  \n",
            " conv4_6_1x1_reduce/bn (BatchNo  (None, 14, 14, 256)  1024       ['conv4_6_1x1_reduce[0][0]']     \n",
            " rmalization)                                                                                     \n",
            "                                                                                                  \n",
            " activation_38 (Activation)     (None, 14, 14, 256)  0           ['conv4_6_1x1_reduce/bn[0][0]']  \n",
            "                                                                                                  \n",
            " conv4_6_3x3 (Conv2D)           (None, 14, 14, 256)  589824      ['activation_38[0][0]']          \n",
            "                                                                                                  \n",
            " conv4_6_3x3/bn (BatchNormaliza  (None, 14, 14, 256)  1024       ['conv4_6_3x3[0][0]']            \n",
            " tion)                                                                                            \n",
            "                                                                                                  \n",
            " activation_39 (Activation)     (None, 14, 14, 256)  0           ['conv4_6_3x3/bn[0][0]']         \n",
            "                                                                                                  \n",
            " conv4_6_1x1_increase (Conv2D)  (None, 14, 14, 1024  262144      ['activation_39[0][0]']          \n",
            "                                )                                                                 \n",
            "                                                                                                  \n",
            " conv4_6_1x1_increase/bn (Batch  (None, 14, 14, 1024  4096       ['conv4_6_1x1_increase[0][0]']   \n",
            " Normalization)                 )                                                                 \n",
            "                                                                                                  \n",
            " add_13 (Add)                   (None, 14, 14, 1024  0           ['conv4_6_1x1_increase/bn[0][0]',\n",
            "                                )                                 'activation_37[0][0]']          \n",
            "                                                                                                  \n",
            " activation_40 (Activation)     (None, 14, 14, 1024  0           ['add_13[0][0]']                 \n",
            "                                )                                                                 \n",
            "                                                                                                  \n",
            " conv5_1_1x1_reduce (Conv2D)    (None, 7, 7, 512)    524288      ['activation_40[0][0]']          \n",
            "                                                                                                  \n",
            " conv5_1_1x1_reduce/bn (BatchNo  (None, 7, 7, 512)   2048        ['conv5_1_1x1_reduce[0][0]']     \n",
            " rmalization)                                                                                     \n",
            "                                                                                                  \n",
            " activation_41 (Activation)     (None, 7, 7, 512)    0           ['conv5_1_1x1_reduce/bn[0][0]']  \n",
            "                                                                                                  \n",
            " conv5_1_3x3 (Conv2D)           (None, 7, 7, 512)    2359296     ['activation_41[0][0]']          \n",
            "                                                                                                  \n",
            " conv5_1_3x3/bn (BatchNormaliza  (None, 7, 7, 512)   2048        ['conv5_1_3x3[0][0]']            \n",
            " tion)                                                                                            \n",
            "                                                                                                  \n",
            " activation_42 (Activation)     (None, 7, 7, 512)    0           ['conv5_1_3x3/bn[0][0]']         \n",
            "                                                                                                  \n",
            " conv5_1_1x1_increase (Conv2D)  (None, 7, 7, 2048)   1048576     ['activation_42[0][0]']          \n",
            "                                                                                                  \n",
            " conv5_1_1x1_proj (Conv2D)      (None, 7, 7, 2048)   2097152     ['activation_40[0][0]']          \n",
            "                                                                                                  \n",
            " conv5_1_1x1_increase/bn (Batch  (None, 7, 7, 2048)  8192        ['conv5_1_1x1_increase[0][0]']   \n",
            " Normalization)                                                                                   \n",
            "                                                                                                  \n",
            " conv5_1_1x1_proj/bn (BatchNorm  (None, 7, 7, 2048)  8192        ['conv5_1_1x1_proj[0][0]']       \n",
            " alization)                                                                                       \n",
            "                                                                                                  \n",
            " add_14 (Add)                   (None, 7, 7, 2048)   0           ['conv5_1_1x1_increase/bn[0][0]',\n",
            "                                                                  'conv5_1_1x1_proj/bn[0][0]']    \n",
            "                                                                                                  \n",
            " activation_43 (Activation)     (None, 7, 7, 2048)   0           ['add_14[0][0]']                 \n",
            "                                                                                                  \n",
            " conv5_2_1x1_reduce (Conv2D)    (None, 7, 7, 512)    1048576     ['activation_43[0][0]']          \n",
            "                                                                                                  \n",
            " conv5_2_1x1_reduce/bn (BatchNo  (None, 7, 7, 512)   2048        ['conv5_2_1x1_reduce[0][0]']     \n",
            " rmalization)                                                                                     \n",
            "                                                                                                  \n",
            " activation_44 (Activation)     (None, 7, 7, 512)    0           ['conv5_2_1x1_reduce/bn[0][0]']  \n",
            "                                                                                                  \n",
            " conv5_2_3x3 (Conv2D)           (None, 7, 7, 512)    2359296     ['activation_44[0][0]']          \n",
            "                                                                                                  \n",
            " conv5_2_3x3/bn (BatchNormaliza  (None, 7, 7, 512)   2048        ['conv5_2_3x3[0][0]']            \n",
            " tion)                                                                                            \n",
            "                                                                                                  \n",
            " activation_45 (Activation)     (None, 7, 7, 512)    0           ['conv5_2_3x3/bn[0][0]']         \n",
            "                                                                                                  \n",
            " conv5_2_1x1_increase (Conv2D)  (None, 7, 7, 2048)   1048576     ['activation_45[0][0]']          \n",
            "                                                                                                  \n",
            " conv5_2_1x1_increase/bn (Batch  (None, 7, 7, 2048)  8192        ['conv5_2_1x1_increase[0][0]']   \n",
            " Normalization)                                                                                   \n",
            "                                                                                                  \n",
            " add_15 (Add)                   (None, 7, 7, 2048)   0           ['conv5_2_1x1_increase/bn[0][0]',\n",
            "                                                                  'activation_43[0][0]']          \n",
            "                                                                                                  \n",
            " activation_46 (Activation)     (None, 7, 7, 2048)   0           ['add_15[0][0]']                 \n",
            "                                                                                                  \n",
            " conv5_3_1x1_reduce (Conv2D)    (None, 7, 7, 512)    1048576     ['activation_46[0][0]']          \n",
            "                                                                                                  \n",
            " conv5_3_1x1_reduce/bn (BatchNo  (None, 7, 7, 512)   2048        ['conv5_3_1x1_reduce[0][0]']     \n",
            " rmalization)                                                                                     \n",
            "                                                                                                  \n",
            " activation_47 (Activation)     (None, 7, 7, 512)    0           ['conv5_3_1x1_reduce/bn[0][0]']  \n",
            "                                                                                                  \n",
            " conv5_3_3x3 (Conv2D)           (None, 7, 7, 512)    2359296     ['activation_47[0][0]']          \n",
            "                                                                                                  \n",
            " conv5_3_3x3/bn (BatchNormaliza  (None, 7, 7, 512)   2048        ['conv5_3_3x3[0][0]']            \n",
            " tion)                                                                                            \n",
            "                                                                                                  \n",
            " activation_48 (Activation)     (None, 7, 7, 512)    0           ['conv5_3_3x3/bn[0][0]']         \n",
            "                                                                                                  \n",
            " conv5_3_1x1_increase (Conv2D)  (None, 7, 7, 2048)   1048576     ['activation_48[0][0]']          \n",
            "                                                                                                  \n",
            " conv5_3_1x1_increase/bn (Batch  (None, 7, 7, 2048)  8192        ['conv5_3_1x1_increase[0][0]']   \n",
            " Normalization)                                                                                   \n",
            "                                                                                                  \n",
            " add_16 (Add)                   (None, 7, 7, 2048)   0           ['conv5_3_1x1_increase/bn[0][0]',\n",
            "                                                                  'activation_46[0][0]']          \n",
            "                                                                                                  \n",
            " activation_49 (Activation)     (None, 7, 7, 2048)   0           ['add_16[0][0]']                 \n",
            "                                                                                                  \n",
            " avg_pool (AveragePooling2D)    (None, 1, 1, 2048)   0           ['activation_49[0][0]']          \n",
            "                                                                                                  \n",
            "==================================================================================================\n",
            "Total params: 23,561,152\n",
            "Trainable params: 0\n",
            "Non-trainable params: 23,561,152\n",
            "__________________________________________________________________________________________________\n"
          ]
        }
      ],
      "source": [
        "# Отсекаем ненужные слои и замараживаем веса \n",
        "base_model =  tf.keras.Model([vggface_model.input], vggface_model.get_layer('avg_pool').output)\n",
        "base_model.trainable = False\n",
        "base_model.summary()"
      ]
    },
    {
      "cell_type": "code",
      "execution_count": null,
      "metadata": {
        "id": "FuL3op7h4a5B"
      },
      "outputs": [],
      "source": [
        "#Добавляем сверточные слои\n",
        "from keras.backend import flatten\n",
        "model = tf.keras.Sequential([\n",
        "  base_model,\n",
        "  tf.keras.layers.Conv2D(256, (3, 3), dilation_rate=6, padding='same', activation='relu'),\n",
        "  tf.keras.layers.Conv2D(256, (1, 1), dilation_rate=6, padding='same', activation='relu'),\n",
        "  tf.keras.layers.Conv2D(256, (3, 3), dilation_rate=6, padding='same', activation='relu'),\n",
        "  tf.keras.layers.Conv2D(256, (1, 1), dilation_rate=6, padding='same', activation='relu'),\n",
        "  tf.keras.layers.Flatten(),\n",
        "  tf.keras.layers.Dense(units=256, activation= tf.keras.activations.relu),\n",
        "  tf.keras.layers.Dense(units=9, activation= tf.keras.activations.softmax)\n",
        "])"
      ]
    },
    {
      "cell_type": "markdown",
      "metadata": {
        "id": "oC2nzDZ2-qrk"
      },
      "source": [
        "#Проверка скорости на inference"
      ]
    },
    {
      "cell_type": "code",
      "execution_count": null,
      "metadata": {
        "colab": {
          "base_uri": "https://localhost:8080/"
        },
        "id": "Y7g504q43jXK",
        "outputId": "ed195f72-baea-4e62-e58d-93ed0772ae53"
      },
      "outputs": [
        {
          "name": "stdout",
          "output_type": "stream",
          "text": [
            "The slowest run took 11.62 times longer than the fastest. This could mean that an intermediate result is being cached.\n",
            "10 loops, best of 10: 73.6 ms per loop\n"
          ]
        }
      ],
      "source": [
        "%%timeit -n 10 -r 10\n",
        "q = model(np.zeros((1, 224, 224, 3), dtype=np.float32))"
      ]
    },
    {
      "cell_type": "markdown",
      "metadata": {
        "id": "5g1zTrMk4Qnw"
      },
      "source": [
        "Скорость удовлетворяет указанным в ТЗ требованиям"
      ]
    },
    {
      "cell_type": "markdown",
      "metadata": {
        "id": "-GkmRosTIsgo"
      },
      "source": [
        "#Обучение модели"
      ]
    },
    {
      "cell_type": "code",
      "execution_count": null,
      "metadata": {
        "id": "wr9dZPeI5MRz"
      },
      "outputs": [],
      "source": [
        "model.compile(optimizer=tf.keras.optimizers.Adam(0.003), \n",
        "              loss = tf.keras.losses.sparse_categorical_crossentropy, \n",
        "              metrics = ['accuracy'])\n",
        "\n",
        "checkpoint = tf.keras.callbacks.ModelCheckpoint(filepath=\"/content/drive/MyDrive/diplom_2/model_1/checkpoint_best_1.h5\",\n",
        "                                                monitor = 'accuracy', \n",
        "                                                save_best_only=True)"
      ]
    },
    {
      "cell_type": "code",
      "execution_count": null,
      "metadata": {
        "colab": {
          "base_uri": "https://localhost:8080/"
        },
        "id": "K1KrzQdv5dM7",
        "outputId": "5d384558-39d3-41d2-b569-8f8da36d204a"
      },
      "outputs": [
        {
          "name": "stderr",
          "output_type": "stream",
          "text": [
            "/usr/local/lib/python3.7/dist-packages/ipykernel_launcher.py:7: UserWarning: `Model.fit_generator` is deprecated and will be removed in a future version. Please use `Model.fit`, which supports generators.\n",
            "  import sys\n",
            "/usr/local/lib/python3.7/dist-packages/keras_preprocessing/image/image_data_generator.py:720: UserWarning: This ImageDataGenerator specifies `featurewise_center`, but it hasn't been fit on any training data. Fit it first by calling `.fit(numpy_data)`.\n",
            "  warnings.warn('This ImageDataGenerator specifies '\n"
          ]
        },
        {
          "name": "stdout",
          "output_type": "stream",
          "text": [
            "391/391 [==============================] - 1152s 3s/step - loss: 1.7129 - accuracy: 0.3753\n"
          ]
        },
        {
          "data": {
            "text/plain": [
              "<keras.callbacks.History at 0x7f13c0c27c50>"
            ]
          },
          "execution_count": 28,
          "metadata": {},
          "output_type": "execute_result"
        }
      ],
      "source": [
        "EPOCHS = 1\n",
        "\n",
        "model.fit_generator(train_generator, \n",
        "                    # validation_data= test_generator, \n",
        "                    #steps_per_epoch= 25,  \n",
        "                    callbacks= checkpoint, \n",
        "                    epochs = EPOCHS)"
      ]
    },
    {
      "cell_type": "markdown",
      "metadata": {
        "id": "XqKdXVZFZ03k"
      },
      "source": [
        "#Определение эмоций изображений в датасете sample_submission"
      ]
    },
    {
      "cell_type": "code",
      "execution_count": null,
      "metadata": {
        "id": "u_0ItAEQgtqJ"
      },
      "outputs": [],
      "source": [
        "for i, im_path in enumerate(sample_submission.index):\n",
        "  try:\n",
        "    img = image.load_img('./test_kaggle/'+im_path, target_size=(224, 224))\n",
        "    img = np.array([np.array(img)])\n",
        "    answer = model.predict(img)\n",
        "    res_class = list(answer[0]).index(answer[0].max()) \n",
        "    sample_submission['emotion'][im_path] = le.classes_[res_class]\n",
        "  except FileNotFoundError:\n",
        "    continue "
      ]
    },
    {
      "cell_type": "code",
      "execution_count": null,
      "metadata": {
        "id": "Y5sTmyucB1xP"
      },
      "outputs": [],
      "source": [
        "#Сохраняем результат\n",
        "sample_submission.to_csv('sample_submission.csv')"
      ]
    },
    {
      "cell_type": "markdown",
      "metadata": {
        "id": "BtU8XLDGIznh"
      },
      "source": [
        "Результат на leadbord, который удовлетворяет условию задачи:\n",
        "1.   Score: 0.43520\n",
        "2.   Private score: 0.42200 <br>\n",
        "\n"
      ]
    }
  ],
  "metadata": {
    "accelerator": "GPU",
    "colab": {
      "collapsed_sections": [],
      "name": "model_1.ipynb",
      "provenance": []
    },
    "kernelspec": {
      "display_name": "Python 3 (ipykernel)",
      "language": "python",
      "name": "python3"
    },
    "language_info": {
      "codemirror_mode": {
        "name": "ipython",
        "version": 3
      },
      "file_extension": ".py",
      "mimetype": "text/x-python",
      "name": "python",
      "nbconvert_exporter": "python",
      "pygments_lexer": "ipython3",
      "version": "3.8.8"
    }
  },
  "nbformat": 4,
  "nbformat_minor": 0
}